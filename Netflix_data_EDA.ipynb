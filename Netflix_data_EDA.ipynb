{
 "cells": [
  {
   "cell_type": "code",
   "execution_count": 1,
   "id": "673fe501",
   "metadata": {},
   "outputs": [],
   "source": [
    "import numpy as np\n",
    "import pandas as pd    \n",
    "import seaborn as sns\n",
    "import matplotlib.pyplot as plt\n",
    "from scipy import stats\n",
    "from warnings import filterwarnings\n",
    "filterwarnings('ignore')\n",
    "pd.set_option('display.max_column',None)"
   ]
  },
  {
   "cell_type": "code",
   "execution_count": 2,
   "id": "a5aa1927",
   "metadata": {},
   "outputs": [
    {
     "data": {
      "text/html": [
       "<div>\n",
       "<style scoped>\n",
       "    .dataframe tbody tr th:only-of-type {\n",
       "        vertical-align: middle;\n",
       "    }\n",
       "\n",
       "    .dataframe tbody tr th {\n",
       "        vertical-align: top;\n",
       "    }\n",
       "\n",
       "    .dataframe thead th {\n",
       "        text-align: right;\n",
       "    }\n",
       "</style>\n",
       "<table border=\"1\" class=\"dataframe\">\n",
       "  <thead>\n",
       "    <tr style=\"text-align: right;\">\n",
       "      <th></th>\n",
       "      <th>Type</th>\n",
       "      <th>Title</th>\n",
       "      <th>Director</th>\n",
       "      <th>Cast</th>\n",
       "      <th>Country</th>\n",
       "      <th>Release_year</th>\n",
       "      <th>Genres</th>\n",
       "    </tr>\n",
       "  </thead>\n",
       "  <tbody>\n",
       "    <tr>\n",
       "      <th>0</th>\n",
       "      <td>Movie</td>\n",
       "      <td>Dick Johnson Is Dead</td>\n",
       "      <td>Kirsten Johnson</td>\n",
       "      <td>NaN</td>\n",
       "      <td>United States</td>\n",
       "      <td>2020</td>\n",
       "      <td>Documentaries</td>\n",
       "    </tr>\n",
       "    <tr>\n",
       "      <th>1</th>\n",
       "      <td>TV Show</td>\n",
       "      <td>Blood &amp; Water</td>\n",
       "      <td>NaN</td>\n",
       "      <td>Ama Qamata, Khosi Ngema, Gail Mabalane, Thaban...</td>\n",
       "      <td>South Africa</td>\n",
       "      <td>2021</td>\n",
       "      <td>International TV Shows, TV Dramas, TV Mysteries</td>\n",
       "    </tr>\n",
       "    <tr>\n",
       "      <th>2</th>\n",
       "      <td>TV Show</td>\n",
       "      <td>Ganglands</td>\n",
       "      <td>Julien Leclercq</td>\n",
       "      <td>Sami Bouajila, Tracy Gotoas, Samuel Jouy, Nabi...</td>\n",
       "      <td>NaN</td>\n",
       "      <td>2021</td>\n",
       "      <td>Crime TV Shows, International TV Shows, TV Act...</td>\n",
       "    </tr>\n",
       "    <tr>\n",
       "      <th>3</th>\n",
       "      <td>TV Show</td>\n",
       "      <td>Jailbirds New Orleans</td>\n",
       "      <td>NaN</td>\n",
       "      <td>NaN</td>\n",
       "      <td>NaN</td>\n",
       "      <td>2021</td>\n",
       "      <td>Docuseries, Reality TV</td>\n",
       "    </tr>\n",
       "    <tr>\n",
       "      <th>4</th>\n",
       "      <td>TV Show</td>\n",
       "      <td>Kota Factory</td>\n",
       "      <td>NaN</td>\n",
       "      <td>Mayur More, Jitendra Kumar, Ranjan Raj, Alam K...</td>\n",
       "      <td>India</td>\n",
       "      <td>2021</td>\n",
       "      <td>International TV Shows, Romantic TV Shows, TV ...</td>\n",
       "    </tr>\n",
       "  </tbody>\n",
       "</table>\n",
       "</div>"
      ],
      "text/plain": [
       "      Type                  Title         Director  \\\n",
       "0    Movie   Dick Johnson Is Dead  Kirsten Johnson   \n",
       "1  TV Show          Blood & Water              NaN   \n",
       "2  TV Show              Ganglands  Julien Leclercq   \n",
       "3  TV Show  Jailbirds New Orleans              NaN   \n",
       "4  TV Show           Kota Factory              NaN   \n",
       "\n",
       "                                                Cast        Country  \\\n",
       "0                                                NaN  United States   \n",
       "1  Ama Qamata, Khosi Ngema, Gail Mabalane, Thaban...   South Africa   \n",
       "2  Sami Bouajila, Tracy Gotoas, Samuel Jouy, Nabi...            NaN   \n",
       "3                                                NaN            NaN   \n",
       "4  Mayur More, Jitendra Kumar, Ranjan Raj, Alam K...          India   \n",
       "\n",
       "   Release_year                                             Genres  \n",
       "0          2020                                      Documentaries  \n",
       "1          2021    International TV Shows, TV Dramas, TV Mysteries  \n",
       "2          2021  Crime TV Shows, International TV Shows, TV Act...  \n",
       "3          2021                             Docuseries, Reality TV  \n",
       "4          2021  International TV Shows, Romantic TV Shows, TV ...  "
      ]
     },
     "execution_count": 2,
     "metadata": {},
     "output_type": "execute_result"
    }
   ],
   "source": [
    "asbl_data = pd.read_excel(\"C:\\\\Users\\\\user\\\\Downloads\\\\asbl_data_analyst_interview_assignment_netflix.xlsx\")\n",
    "asbl_data.head()"
   ]
  },
  {
   "cell_type": "code",
   "execution_count": 3,
   "id": "6d7e932f",
   "metadata": {},
   "outputs": [
    {
     "data": {
      "text/plain": [
       "(8807, 7)"
      ]
     },
     "execution_count": 3,
     "metadata": {},
     "output_type": "execute_result"
    }
   ],
   "source": [
    "asbl_data.shape"
   ]
  },
  {
   "cell_type": "code",
   "execution_count": 4,
   "id": "20e9676d",
   "metadata": {},
   "outputs": [
    {
     "data": {
      "text/plain": [
       "Type            object\n",
       "Title           object\n",
       "Director        object\n",
       "Cast            object\n",
       "Country         object\n",
       "Release_year     int64\n",
       "Genres          object\n",
       "dtype: object"
      ]
     },
     "execution_count": 4,
     "metadata": {},
     "output_type": "execute_result"
    }
   ],
   "source": [
    "asbl_data.dtypes"
   ]
  },
  {
   "cell_type": "code",
   "execution_count": 5,
   "id": "0cdba862",
   "metadata": {},
   "outputs": [
    {
     "data": {
      "text/html": [
       "<div>\n",
       "<style scoped>\n",
       "    .dataframe tbody tr th:only-of-type {\n",
       "        vertical-align: middle;\n",
       "    }\n",
       "\n",
       "    .dataframe tbody tr th {\n",
       "        vertical-align: top;\n",
       "    }\n",
       "\n",
       "    .dataframe thead th {\n",
       "        text-align: right;\n",
       "    }\n",
       "</style>\n",
       "<table border=\"1\" class=\"dataframe\">\n",
       "  <thead>\n",
       "    <tr style=\"text-align: right;\">\n",
       "      <th></th>\n",
       "      <th>Type</th>\n",
       "      <th>Title</th>\n",
       "      <th>Director</th>\n",
       "      <th>Cast</th>\n",
       "      <th>Country</th>\n",
       "      <th>Genres</th>\n",
       "    </tr>\n",
       "  </thead>\n",
       "  <tbody>\n",
       "    <tr>\n",
       "      <th>count</th>\n",
       "      <td>8807</td>\n",
       "      <td>8807</td>\n",
       "      <td>6173</td>\n",
       "      <td>7982</td>\n",
       "      <td>7976</td>\n",
       "      <td>8807</td>\n",
       "    </tr>\n",
       "    <tr>\n",
       "      <th>unique</th>\n",
       "      <td>2</td>\n",
       "      <td>8807</td>\n",
       "      <td>4528</td>\n",
       "      <td>7692</td>\n",
       "      <td>748</td>\n",
       "      <td>514</td>\n",
       "    </tr>\n",
       "    <tr>\n",
       "      <th>top</th>\n",
       "      <td>Movie</td>\n",
       "      <td>Dick Johnson Is Dead</td>\n",
       "      <td>Rajiv Chilaka</td>\n",
       "      <td>David Attenborough</td>\n",
       "      <td>United States</td>\n",
       "      <td>Dramas, International Movies</td>\n",
       "    </tr>\n",
       "    <tr>\n",
       "      <th>freq</th>\n",
       "      <td>6131</td>\n",
       "      <td>1</td>\n",
       "      <td>19</td>\n",
       "      <td>19</td>\n",
       "      <td>2818</td>\n",
       "      <td>362</td>\n",
       "    </tr>\n",
       "  </tbody>\n",
       "</table>\n",
       "</div>"
      ],
      "text/plain": [
       "         Type                 Title       Director                Cast  \\\n",
       "count    8807                  8807           6173                7982   \n",
       "unique      2                  8807           4528                7692   \n",
       "top     Movie  Dick Johnson Is Dead  Rajiv Chilaka  David Attenborough   \n",
       "freq     6131                     1             19                  19   \n",
       "\n",
       "              Country                        Genres  \n",
       "count            7976                          8807  \n",
       "unique            748                           514  \n",
       "top     United States  Dramas, International Movies  \n",
       "freq             2818                           362  "
      ]
     },
     "execution_count": 5,
     "metadata": {},
     "output_type": "execute_result"
    }
   ],
   "source": [
    "asbl_data.describe(include=['object'])"
   ]
  },
  {
   "cell_type": "code",
   "execution_count": 6,
   "id": "1e81a95d",
   "metadata": {},
   "outputs": [
    {
     "data": {
      "text/html": [
       "<div>\n",
       "<style scoped>\n",
       "    .dataframe tbody tr th:only-of-type {\n",
       "        vertical-align: middle;\n",
       "    }\n",
       "\n",
       "    .dataframe tbody tr th {\n",
       "        vertical-align: top;\n",
       "    }\n",
       "\n",
       "    .dataframe thead th {\n",
       "        text-align: right;\n",
       "    }\n",
       "</style>\n",
       "<table border=\"1\" class=\"dataframe\">\n",
       "  <thead>\n",
       "    <tr style=\"text-align: right;\">\n",
       "      <th></th>\n",
       "      <th>Release_year</th>\n",
       "    </tr>\n",
       "  </thead>\n",
       "  <tbody>\n",
       "    <tr>\n",
       "      <th>count</th>\n",
       "      <td>8807.000000</td>\n",
       "    </tr>\n",
       "    <tr>\n",
       "      <th>mean</th>\n",
       "      <td>2014.180198</td>\n",
       "    </tr>\n",
       "    <tr>\n",
       "      <th>std</th>\n",
       "      <td>8.819312</td>\n",
       "    </tr>\n",
       "    <tr>\n",
       "      <th>min</th>\n",
       "      <td>1925.000000</td>\n",
       "    </tr>\n",
       "    <tr>\n",
       "      <th>25%</th>\n",
       "      <td>2013.000000</td>\n",
       "    </tr>\n",
       "    <tr>\n",
       "      <th>50%</th>\n",
       "      <td>2017.000000</td>\n",
       "    </tr>\n",
       "    <tr>\n",
       "      <th>75%</th>\n",
       "      <td>2019.000000</td>\n",
       "    </tr>\n",
       "    <tr>\n",
       "      <th>max</th>\n",
       "      <td>2021.000000</td>\n",
       "    </tr>\n",
       "  </tbody>\n",
       "</table>\n",
       "</div>"
      ],
      "text/plain": [
       "       Release_year\n",
       "count   8807.000000\n",
       "mean    2014.180198\n",
       "std        8.819312\n",
       "min     1925.000000\n",
       "25%     2013.000000\n",
       "50%     2017.000000\n",
       "75%     2019.000000\n",
       "max     2021.000000"
      ]
     },
     "execution_count": 6,
     "metadata": {},
     "output_type": "execute_result"
    }
   ],
   "source": [
    "asbl_data.describe()"
   ]
  },
  {
   "cell_type": "code",
   "execution_count": 7,
   "id": "30dd0257",
   "metadata": {},
   "outputs": [],
   "source": [
    "# though first contet was released in Netflix on year 1925, \n",
    "# most of the TV Show and Movies have been released between year 2000-2021  "
   ]
  },
  {
   "cell_type": "code",
   "execution_count": 8,
   "id": "afac0bf1",
   "metadata": {},
   "outputs": [
    {
     "data": {
      "text/plain": [
       "<seaborn.axisgrid.FacetGrid at 0x20581665e50>"
      ]
     },
     "execution_count": 8,
     "metadata": {},
     "output_type": "execute_result"
    },
    {
     "data": {
      "image/png": "[encoded data removed]",
      "text/plain": [
       "<Figure size 900x360 with 1 Axes>"
      ]
     },
     "metadata": {
      "needs_background": "light"
     },
     "output_type": "display_data"
    }
   ],
   "source": [
    "sns.catplot(x='Type', y='Release_year', data=asbl_data, aspect =2.5, kind='box')"
   ]
  },
  {
   "cell_type": "code",
   "execution_count": 9,
   "id": "1de0e24d",
   "metadata": {},
   "outputs": [],
   "source": [
    "asbl_updated = asbl_data.drop(asbl_data[asbl_data[\"Release_year\"] < 2000].index)"
   ]
  },
  {
   "cell_type": "code",
   "execution_count": 10,
   "id": "802c61c2",
   "metadata": {},
   "outputs": [
    {
     "data": {
      "text/plain": [
       "(8282, 7)"
      ]
     },
     "execution_count": 10,
     "metadata": {},
     "output_type": "execute_result"
    }
   ],
   "source": [
    "asbl_updated.shape"
   ]
  },
  {
   "cell_type": "code",
   "execution_count": 11,
   "id": "87caa3ce",
   "metadata": {},
   "outputs": [
    {
     "data": {
      "text/plain": [
       "Type               0\n",
       "Title              0\n",
       "Director        2582\n",
       "Cast             807\n",
       "Country          808\n",
       "Release_year       0\n",
       "Genres             0\n",
       "dtype: int64"
      ]
     },
     "execution_count": 11,
     "metadata": {},
     "output_type": "execute_result"
    }
   ],
   "source": [
    "asbl_updated.isnull().sum()"
   ]
  },
  {
   "cell_type": "code",
   "execution_count": 12,
   "id": "e94458c1",
   "metadata": {},
   "outputs": [],
   "source": [
    "asbl_updated_1 = asbl_updated.drop(asbl_updated[asbl_updated[\"Director\"].isnull() ].index)\n",
    "asbl_updated_1 = asbl_updated_1.drop(asbl_updated_1[asbl_updated_1[\"Cast\"].isnull() ].index)\n",
    "asbl_updated_1 = asbl_updated_1.drop(asbl_updated_1[asbl_updated_1[\"Country\"].isnull() ].index)"
   ]
  },
  {
   "cell_type": "code",
   "execution_count": 13,
   "id": "a1f52de1",
   "metadata": {},
   "outputs": [
    {
     "data": {
      "text/plain": [
       "(4895, 7)"
      ]
     },
     "execution_count": 13,
     "metadata": {},
     "output_type": "execute_result"
    }
   ],
   "source": [
    "asbl_updated_1.shape"
   ]
  },
  {
   "cell_type": "code",
   "execution_count": 14,
   "id": "94b34203",
   "metadata": {},
   "outputs": [
    {
     "data": {
      "text/plain": [
       "Type            0\n",
       "Title           0\n",
       "Director        0\n",
       "Cast            0\n",
       "Country         0\n",
       "Release_year    0\n",
       "Genres          0\n",
       "dtype: int64"
      ]
     },
     "execution_count": 14,
     "metadata": {},
     "output_type": "execute_result"
    }
   ],
   "source": [
    "asbl_updated_1.isnull().sum()"
   ]
  },
  {
   "cell_type": "code",
   "execution_count": 15,
   "id": "3f5a086a",
   "metadata": {},
   "outputs": [
    {
     "data": {
      "text/html": [
       "<div>\n",
       "<style scoped>\n",
       "    .dataframe tbody tr th:only-of-type {\n",
       "        vertical-align: middle;\n",
       "    }\n",
       "\n",
       "    .dataframe tbody tr th {\n",
       "        vertical-align: top;\n",
       "    }\n",
       "\n",
       "    .dataframe thead th {\n",
       "        text-align: right;\n",
       "    }\n",
       "</style>\n",
       "<table border=\"1\" class=\"dataframe\">\n",
       "  <thead>\n",
       "    <tr style=\"text-align: right;\">\n",
       "      <th></th>\n",
       "      <th>Type</th>\n",
       "      <th>Title</th>\n",
       "      <th>Director</th>\n",
       "      <th>Cast</th>\n",
       "      <th>Country</th>\n",
       "      <th>Release_year</th>\n",
       "      <th>Genres</th>\n",
       "    </tr>\n",
       "  </thead>\n",
       "  <tbody>\n",
       "    <tr>\n",
       "      <th>8</th>\n",
       "      <td>TV Show</td>\n",
       "      <td>The Great British Baking Show</td>\n",
       "      <td>Andy Devonshire</td>\n",
       "      <td>Mel Giedroyc, Sue Perkins, Mary Berry, Paul Ho...</td>\n",
       "      <td>United Kingdom</td>\n",
       "      <td>2021</td>\n",
       "      <td>British TV Shows, Reality TV</td>\n",
       "    </tr>\n",
       "    <tr>\n",
       "      <th>9</th>\n",
       "      <td>Movie</td>\n",
       "      <td>The Starling</td>\n",
       "      <td>Theodore Melfi</td>\n",
       "      <td>Melissa McCarthy, Chris O'Dowd, Kevin Kline, T...</td>\n",
       "      <td>United States</td>\n",
       "      <td>2021</td>\n",
       "      <td>Comedies, Dramas</td>\n",
       "    </tr>\n",
       "    <tr>\n",
       "      <th>12</th>\n",
       "      <td>Movie</td>\n",
       "      <td>Je Suis Karl</td>\n",
       "      <td>Christian Schwochow</td>\n",
       "      <td>Luna Wedler, Jannis Niewöhner, Milan Peschel, ...</td>\n",
       "      <td>Germany, Czech Republic</td>\n",
       "      <td>2021</td>\n",
       "      <td>Dramas, International Movies</td>\n",
       "    </tr>\n",
       "    <tr>\n",
       "      <th>27</th>\n",
       "      <td>Movie</td>\n",
       "      <td>Grown Ups</td>\n",
       "      <td>Dennis Dugan</td>\n",
       "      <td>Adam Sandler, Kevin James, Chris Rock, David S...</td>\n",
       "      <td>United States</td>\n",
       "      <td>2010</td>\n",
       "      <td>Comedies</td>\n",
       "    </tr>\n",
       "    <tr>\n",
       "      <th>28</th>\n",
       "      <td>Movie</td>\n",
       "      <td>Dark Skies</td>\n",
       "      <td>Scott Stewart</td>\n",
       "      <td>Keri Russell, Josh Hamilton, J.K. Simmons, Dak...</td>\n",
       "      <td>United States</td>\n",
       "      <td>2013</td>\n",
       "      <td>Horror Movies, Sci-Fi &amp; Fantasy</td>\n",
       "    </tr>\n",
       "  </tbody>\n",
       "</table>\n",
       "</div>"
      ],
      "text/plain": [
       "       Type                          Title             Director  \\\n",
       "8   TV Show  The Great British Baking Show      Andy Devonshire   \n",
       "9     Movie                   The Starling       Theodore Melfi   \n",
       "12    Movie                   Je Suis Karl  Christian Schwochow   \n",
       "27    Movie                      Grown Ups         Dennis Dugan   \n",
       "28    Movie                     Dark Skies        Scott Stewart   \n",
       "\n",
       "                                                 Cast  \\\n",
       "8   Mel Giedroyc, Sue Perkins, Mary Berry, Paul Ho...   \n",
       "9   Melissa McCarthy, Chris O'Dowd, Kevin Kline, T...   \n",
       "12  Luna Wedler, Jannis Niewöhner, Milan Peschel, ...   \n",
       "27  Adam Sandler, Kevin James, Chris Rock, David S...   \n",
       "28  Keri Russell, Josh Hamilton, J.K. Simmons, Dak...   \n",
       "\n",
       "                    Country  Release_year                           Genres  \n",
       "8            United Kingdom          2021     British TV Shows, Reality TV  \n",
       "9             United States          2021                 Comedies, Dramas  \n",
       "12  Germany, Czech Republic          2021     Dramas, International Movies  \n",
       "27            United States          2010                         Comedies  \n",
       "28            United States          2013  Horror Movies, Sci-Fi & Fantasy  "
      ]
     },
     "execution_count": 15,
     "metadata": {},
     "output_type": "execute_result"
    }
   ],
   "source": [
    "asbl_updated_1.head()"
   ]
  },
  {
   "cell_type": "code",
   "execution_count": 16,
   "id": "eeb87b72",
   "metadata": {},
   "outputs": [
    {
     "data": {
      "text/html": [
       "<div>\n",
       "<style scoped>\n",
       "    .dataframe tbody tr th:only-of-type {\n",
       "        vertical-align: middle;\n",
       "    }\n",
       "\n",
       "    .dataframe tbody tr th {\n",
       "        vertical-align: top;\n",
       "    }\n",
       "\n",
       "    .dataframe thead th {\n",
       "        text-align: right;\n",
       "    }\n",
       "</style>\n",
       "<table border=\"1\" class=\"dataframe\">\n",
       "  <thead>\n",
       "    <tr style=\"text-align: right;\">\n",
       "      <th></th>\n",
       "      <th>Type</th>\n",
       "      <th>Title</th>\n",
       "      <th>Director</th>\n",
       "      <th>Cast</th>\n",
       "      <th>Country</th>\n",
       "      <th>Genres</th>\n",
       "    </tr>\n",
       "  </thead>\n",
       "  <tbody>\n",
       "    <tr>\n",
       "      <th>count</th>\n",
       "      <td>4895</td>\n",
       "      <td>4895</td>\n",
       "      <td>4895</td>\n",
       "      <td>4895</td>\n",
       "      <td>4895</td>\n",
       "      <td>4895</td>\n",
       "    </tr>\n",
       "    <tr>\n",
       "      <th>unique</th>\n",
       "      <td>2</td>\n",
       "      <td>4895</td>\n",
       "      <td>3714</td>\n",
       "      <td>4769</td>\n",
       "      <td>581</td>\n",
       "      <td>294</td>\n",
       "    </tr>\n",
       "    <tr>\n",
       "      <th>top</th>\n",
       "      <td>Movie</td>\n",
       "      <td>The Great British Baking Show</td>\n",
       "      <td>Raúl Campos, Jan Suter</td>\n",
       "      <td>Samuel West</td>\n",
       "      <td>United States</td>\n",
       "      <td>Dramas, International Movies</td>\n",
       "    </tr>\n",
       "    <tr>\n",
       "      <th>freq</th>\n",
       "      <td>4749</td>\n",
       "      <td>1</td>\n",
       "      <td>18</td>\n",
       "      <td>10</td>\n",
       "      <td>1635</td>\n",
       "      <td>321</td>\n",
       "    </tr>\n",
       "  </tbody>\n",
       "</table>\n",
       "</div>"
      ],
      "text/plain": [
       "         Type                          Title                Director  \\\n",
       "count    4895                           4895                    4895   \n",
       "unique      2                           4895                    3714   \n",
       "top     Movie  The Great British Baking Show  Raúl Campos, Jan Suter   \n",
       "freq     4749                              1                      18   \n",
       "\n",
       "               Cast        Country                        Genres  \n",
       "count          4895           4895                          4895  \n",
       "unique         4769            581                           294  \n",
       "top     Samuel West  United States  Dramas, International Movies  \n",
       "freq             10           1635                           321  "
      ]
     },
     "execution_count": 16,
     "metadata": {},
     "output_type": "execute_result"
    }
   ],
   "source": [
    "asbl_updated_1.describe(include=['object'])"
   ]
  },
  {
   "cell_type": "code",
   "execution_count": 17,
   "id": "2890c413",
   "metadata": {},
   "outputs": [
    {
     "name": "stdout",
     "output_type": "stream",
     "text": [
      "Country\n",
      " United States                   1635\n",
      "India                            795\n",
      "United Kingdom                   170\n",
      "Canada                           106\n",
      "Spain                             91\n",
      "                                ... \n",
      "Canada, Norway                     1\n",
      "France, Senegal, Belgium           1\n",
      "Uruguay, Guatemala                 1\n",
      "Romania, Bulgaria, Hungary         1\n",
      "United Arab Emirates, Jordan       1\n",
      "Name: Country, Length: 581, dtype: int64\n"
     ]
    }
   ],
   "source": [
    "print('Country\\n',asbl_updated_1.Country.value_counts())"
   ]
  },
  {
   "cell_type": "code",
   "execution_count": 50,
   "id": "9b5a9135",
   "metadata": {},
   "outputs": [],
   "source": [
    "Country_name = asbl_updated_1.Country.value_counts().index"
   ]
  },
  {
   "cell_type": "code",
   "execution_count": 51,
   "id": "3fba1a19",
   "metadata": {},
   "outputs": [],
   "source": [
    "Country_released = asbl_updated_1.Country.value_counts().values"
   ]
  },
  {
   "cell_type": "code",
   "execution_count": 54,
   "id": "165ba2c4",
   "metadata": {},
   "outputs": [
    {
     "data": {
      "text/plain": [
       "([<matplotlib.patches.Wedge at 0x205839b75b0>,\n",
       "  <matplotlib.patches.Wedge at 0x205839b7c40>,\n",
       "  <matplotlib.patches.Wedge at 0x205839c23a0>,\n",
       "  <matplotlib.patches.Wedge at 0x205839c2af0>,\n",
       "  <matplotlib.patches.Wedge at 0x205839cd250>],\n",
       " [Text(-0.28877626947392393, 1.0614180449703707, 'United States'),\n",
       "  Text(-0.16065898366752396, -1.0882043424683245, 'India'),\n",
       "  Text(0.8865660412195318, -0.6511533264572391, 'United Kingdom'),\n",
       "  Text(1.042947746112695, -0.3496569731586229, 'Canada'),\n",
       "  Text(1.0942590418658236, -0.11223702283511314, 'Spain')],\n",
       " [Text(-0.1575143288039585, 0.5789552972565658, '58.46%'),\n",
       "  Text(-0.0876321729095585, -0.5935660049827224, '28.42%'),\n",
       "  Text(0.48358147702883547, -0.3551745417039486, '6.08%'),\n",
       "  Text(0.5688805887887426, -0.1907219853592488, '3.79%'),\n",
       "  Text(0.5968685682904492, -0.06122019427369807, '3.25%')])"
      ]
     },
     "execution_count": 54,
     "metadata": {},
     "output_type": "execute_result"
    },
    {
     "data": {
      "image/png": "[encoded data removed]",
      "text/plain": [
       "<Figure size 432x288 with 1 Axes>"
      ]
     },
     "metadata": {},
     "output_type": "display_data"
    }
   ],
   "source": [
    "plt.pie(Country_released [:5],labels = Country_name[:5],autopct='%1.2f%%')"
   ]
  },
  {
   "cell_type": "code",
   "execution_count": 18,
   "id": "647d7653",
   "metadata": {},
   "outputs": [],
   "source": [
    "# United States is top country where netflix released their most of the content followed by India , UK , Canada , Spain"
   ]
  },
  {
   "cell_type": "code",
   "execution_count": 116,
   "id": "4ee67f3f",
   "metadata": {},
   "outputs": [],
   "source": [
    "Actor_in_country_usa = asbl_updated_1[asbl_updated_1['Country'] == 'United States'].groupby('Cast').size().reset_index().rename(columns={0:'count'})"
   ]
  },
  {
   "cell_type": "code",
   "execution_count": 119,
   "id": "8c9cfa18",
   "metadata": {},
   "outputs": [
    {
     "data": {
      "text/html": [
       "<div>\n",
       "<style scoped>\n",
       "    .dataframe tbody tr th:only-of-type {\n",
       "        vertical-align: middle;\n",
       "    }\n",
       "\n",
       "    .dataframe tbody tr th {\n",
       "        vertical-align: top;\n",
       "    }\n",
       "\n",
       "    .dataframe thead th {\n",
       "        text-align: right;\n",
       "    }\n",
       "</style>\n",
       "<table border=\"1\" class=\"dataframe\">\n",
       "  <thead>\n",
       "    <tr style=\"text-align: right;\">\n",
       "      <th></th>\n",
       "      <th>Cast</th>\n",
       "      <th>count</th>\n",
       "    </tr>\n",
       "  </thead>\n",
       "  <tbody>\n",
       "    <tr>\n",
       "      <th>654</th>\n",
       "      <td>Jeff Dunham</td>\n",
       "      <td>7</td>\n",
       "    </tr>\n",
       "    <tr>\n",
       "      <th>855</th>\n",
       "      <td>Kevin Hart</td>\n",
       "      <td>6</td>\n",
       "    </tr>\n",
       "    <tr>\n",
       "      <th>1301</th>\n",
       "      <td>Samuel West</td>\n",
       "      <td>5</td>\n",
       "    </tr>\n",
       "    <tr>\n",
       "      <th>709</th>\n",
       "      <td>Jim Gaffigan</td>\n",
       "      <td>5</td>\n",
       "    </tr>\n",
       "    <tr>\n",
       "      <th>174</th>\n",
       "      <td>Bill Burr</td>\n",
       "      <td>4</td>\n",
       "    </tr>\n",
       "    <tr>\n",
       "      <th>...</th>\n",
       "      <td>...</td>\n",
       "      <td>...</td>\n",
       "    </tr>\n",
       "    <tr>\n",
       "      <th>522</th>\n",
       "      <td>Grace Van Dien, Sean Patrick Flanery, Christin...</td>\n",
       "      <td>1</td>\n",
       "    </tr>\n",
       "    <tr>\n",
       "      <th>521</th>\n",
       "      <td>Gloria Allred</td>\n",
       "      <td>1</td>\n",
       "    </tr>\n",
       "    <tr>\n",
       "      <th>520</th>\n",
       "      <td>Ginnifer Goodwin, Mae Whitman, Rosario Dawson,...</td>\n",
       "      <td>1</td>\n",
       "    </tr>\n",
       "    <tr>\n",
       "      <th>519</th>\n",
       "      <td>Gina Rodriguez, Brittany Snow, DeWanda Wise, L...</td>\n",
       "      <td>1</td>\n",
       "    </tr>\n",
       "    <tr>\n",
       "      <th>1547</th>\n",
       "      <td>Zoey Deutch, Halston Sage, Erica Tremblay, Log...</td>\n",
       "      <td>1</td>\n",
       "    </tr>\n",
       "  </tbody>\n",
       "</table>\n",
       "<p>1548 rows × 2 columns</p>\n",
       "</div>"
      ],
      "text/plain": [
       "                                                   Cast  count\n",
       "654                                         Jeff Dunham      7\n",
       "855                                          Kevin Hart      6\n",
       "1301                                        Samuel West      5\n",
       "709                                        Jim Gaffigan      5\n",
       "174                                           Bill Burr      4\n",
       "...                                                 ...    ...\n",
       "522   Grace Van Dien, Sean Patrick Flanery, Christin...      1\n",
       "521                                       Gloria Allred      1\n",
       "520   Ginnifer Goodwin, Mae Whitman, Rosario Dawson,...      1\n",
       "519   Gina Rodriguez, Brittany Snow, DeWanda Wise, L...      1\n",
       "1547  Zoey Deutch, Halston Sage, Erica Tremblay, Log...      1\n",
       "\n",
       "[1548 rows x 2 columns]"
      ]
     },
     "execution_count": 119,
     "metadata": {},
     "output_type": "execute_result"
    }
   ],
   "source": [
    "Actor_in_country_usa.sort_values(by=['count'],ascending=False)"
   ]
  },
  {
   "cell_type": "code",
   "execution_count": 118,
   "id": "b05c89a1",
   "metadata": {},
   "outputs": [],
   "source": [
    "Actor_in_country_India = asbl_updated_1[asbl_updated_1['Country'] == 'India'].groupby('Cast').size().reset_index().rename(columns={0:'count'})"
   ]
  },
  {
   "cell_type": "code",
   "execution_count": 120,
   "id": "e99ad262",
   "metadata": {},
   "outputs": [
    {
     "data": {
      "text/html": [
       "<div>\n",
       "<style scoped>\n",
       "    .dataframe tbody tr th:only-of-type {\n",
       "        vertical-align: middle;\n",
       "    }\n",
       "\n",
       "    .dataframe tbody tr th {\n",
       "        vertical-align: top;\n",
       "    }\n",
       "\n",
       "    .dataframe thead th {\n",
       "        text-align: right;\n",
       "    }\n",
       "</style>\n",
       "<table border=\"1\" class=\"dataframe\">\n",
       "  <thead>\n",
       "    <tr style=\"text-align: right;\">\n",
       "      <th></th>\n",
       "      <th>Cast</th>\n",
       "      <th>count</th>\n",
       "    </tr>\n",
       "  </thead>\n",
       "  <tbody>\n",
       "    <tr>\n",
       "      <th>496</th>\n",
       "      <td>Rahul Pethe, Mrunmayee Deshpande, Adinath Koth...</td>\n",
       "      <td>2</td>\n",
       "    </tr>\n",
       "    <tr>\n",
       "      <th>775</th>\n",
       "      <td>Vir Das</td>\n",
       "      <td>2</td>\n",
       "    </tr>\n",
       "    <tr>\n",
       "      <th>532</th>\n",
       "      <td>Ranjit Bawa, Mandy Takhar, Manav Vij, Elnaaz N...</td>\n",
       "      <td>1</td>\n",
       "    </tr>\n",
       "    <tr>\n",
       "      <th>523</th>\n",
       "      <td>Ranbir Kapoor, Konkona Sen Sharma, Shruti Bapn...</td>\n",
       "      <td>1</td>\n",
       "    </tr>\n",
       "    <tr>\n",
       "      <th>524</th>\n",
       "      <td>Ranbir Kapoor, Priyanka Chopra, Ileana D'Cruz,...</td>\n",
       "      <td>1</td>\n",
       "    </tr>\n",
       "    <tr>\n",
       "      <th>...</th>\n",
       "      <td>...</td>\n",
       "      <td>...</td>\n",
       "    </tr>\n",
       "    <tr>\n",
       "      <th>267</th>\n",
       "      <td>Jacob Gregory, S.V. Krishna Shankar, Shine Tom...</td>\n",
       "      <td>1</td>\n",
       "    </tr>\n",
       "    <tr>\n",
       "      <th>268</th>\n",
       "      <td>Jacqueline Fernandez, Manoj Bajpayee, Mohit Ra...</td>\n",
       "      <td>1</td>\n",
       "    </tr>\n",
       "    <tr>\n",
       "      <th>269</th>\n",
       "      <td>Jacqueline Fernandez, Sushant Singh Rajput, Bo...</td>\n",
       "      <td>1</td>\n",
       "    </tr>\n",
       "    <tr>\n",
       "      <th>270</th>\n",
       "      <td>Janhvi Kapoor, Pankaj Tripathi, Angad Bedi, Vi...</td>\n",
       "      <td>1</td>\n",
       "    </tr>\n",
       "    <tr>\n",
       "      <th>792</th>\n",
       "      <td>Zoya Hussain, Suhasini Mulay, Jim Sarbh, Aarya...</td>\n",
       "      <td>1</td>\n",
       "    </tr>\n",
       "  </tbody>\n",
       "</table>\n",
       "<p>793 rows × 2 columns</p>\n",
       "</div>"
      ],
      "text/plain": [
       "                                                  Cast  count\n",
       "496  Rahul Pethe, Mrunmayee Deshpande, Adinath Koth...      2\n",
       "775                                            Vir Das      2\n",
       "532  Ranjit Bawa, Mandy Takhar, Manav Vij, Elnaaz N...      1\n",
       "523  Ranbir Kapoor, Konkona Sen Sharma, Shruti Bapn...      1\n",
       "524  Ranbir Kapoor, Priyanka Chopra, Ileana D'Cruz,...      1\n",
       "..                                                 ...    ...\n",
       "267  Jacob Gregory, S.V. Krishna Shankar, Shine Tom...      1\n",
       "268  Jacqueline Fernandez, Manoj Bajpayee, Mohit Ra...      1\n",
       "269  Jacqueline Fernandez, Sushant Singh Rajput, Bo...      1\n",
       "270  Janhvi Kapoor, Pankaj Tripathi, Angad Bedi, Vi...      1\n",
       "792  Zoya Hussain, Suhasini Mulay, Jim Sarbh, Aarya...      1\n",
       "\n",
       "[793 rows x 2 columns]"
      ]
     },
     "execution_count": 120,
     "metadata": {},
     "output_type": "execute_result"
    }
   ],
   "source": [
    "Actor_in_country_India.sort_values(by=['count'],ascending=False)"
   ]
  },
  {
   "cell_type": "code",
   "execution_count": 121,
   "id": "37a0f9d1",
   "metadata": {},
   "outputs": [],
   "source": [
    "Actor_in_country_United_Kingdom = asbl_updated_1[asbl_updated_1['Country'] == 'United Kingdom'].groupby('Cast').size().reset_index().rename(columns={0:'count'})"
   ]
  },
  {
   "cell_type": "code",
   "execution_count": 123,
   "id": "4f2d481b",
   "metadata": {},
   "outputs": [
    {
     "data": {
      "text/html": [
       "<div>\n",
       "<style scoped>\n",
       "    .dataframe tbody tr th:only-of-type {\n",
       "        vertical-align: middle;\n",
       "    }\n",
       "\n",
       "    .dataframe tbody tr th {\n",
       "        vertical-align: top;\n",
       "    }\n",
       "\n",
       "    .dataframe thead th {\n",
       "        text-align: right;\n",
       "    }\n",
       "</style>\n",
       "<table border=\"1\" class=\"dataframe\">\n",
       "  <thead>\n",
       "    <tr style=\"text-align: right;\">\n",
       "      <th></th>\n",
       "      <th>Cast</th>\n",
       "      <th>count</th>\n",
       "    </tr>\n",
       "  </thead>\n",
       "  <tbody>\n",
       "    <tr>\n",
       "      <th>136</th>\n",
       "      <td>Samuel West</td>\n",
       "      <td>4</td>\n",
       "    </tr>\n",
       "    <tr>\n",
       "      <th>122</th>\n",
       "      <td>Rachael Stirling</td>\n",
       "      <td>3</td>\n",
       "    </tr>\n",
       "    <tr>\n",
       "      <th>59</th>\n",
       "      <td>Jack Whitehall</td>\n",
       "      <td>2</td>\n",
       "    </tr>\n",
       "    <tr>\n",
       "      <th>28</th>\n",
       "      <td>David Attenborough</td>\n",
       "      <td>2</td>\n",
       "    </tr>\n",
       "    <tr>\n",
       "      <th>0</th>\n",
       "      <td>Abbie Cornish, Andrea Riseborough, James D'Arc...</td>\n",
       "      <td>1</td>\n",
       "    </tr>\n",
       "    <tr>\n",
       "      <th>...</th>\n",
       "      <td>...</td>\n",
       "      <td>...</td>\n",
       "    </tr>\n",
       "    <tr>\n",
       "      <th>56</th>\n",
       "      <td>Iain Glen</td>\n",
       "      <td>1</td>\n",
       "    </tr>\n",
       "    <tr>\n",
       "      <th>57</th>\n",
       "      <td>Jack Lowden, Martin McCann, Tony Curran, Ian P...</td>\n",
       "      <td>1</td>\n",
       "    </tr>\n",
       "    <tr>\n",
       "      <th>58</th>\n",
       "      <td>Jack O'Connell, Ben Mendelsohn, Rupert Friend,...</td>\n",
       "      <td>1</td>\n",
       "    </tr>\n",
       "    <tr>\n",
       "      <th>60</th>\n",
       "      <td>Jack Whitehall, Joanna Scanlan, Iain Glen, Eth...</td>\n",
       "      <td>1</td>\n",
       "    </tr>\n",
       "    <tr>\n",
       "      <th>162</th>\n",
       "      <td>Ṣọpẹ́ Dìrísù, Wunmi Mosaku, Matt Smith, Malaik...</td>\n",
       "      <td>1</td>\n",
       "    </tr>\n",
       "  </tbody>\n",
       "</table>\n",
       "<p>163 rows × 2 columns</p>\n",
       "</div>"
      ],
      "text/plain": [
       "                                                  Cast  count\n",
       "136                                        Samuel West      4\n",
       "122                                   Rachael Stirling      3\n",
       "59                                      Jack Whitehall      2\n",
       "28                                  David Attenborough      2\n",
       "0    Abbie Cornish, Andrea Riseborough, James D'Arc...      1\n",
       "..                                                 ...    ...\n",
       "56                                           Iain Glen      1\n",
       "57   Jack Lowden, Martin McCann, Tony Curran, Ian P...      1\n",
       "58   Jack O'Connell, Ben Mendelsohn, Rupert Friend,...      1\n",
       "60   Jack Whitehall, Joanna Scanlan, Iain Glen, Eth...      1\n",
       "162  Ṣọpẹ́ Dìrísù, Wunmi Mosaku, Matt Smith, Malaik...      1\n",
       "\n",
       "[163 rows x 2 columns]"
      ]
     },
     "execution_count": 123,
     "metadata": {},
     "output_type": "execute_result"
    }
   ],
   "source": [
    "Actor_in_country_United_Kingdom.sort_values(by=['count'],ascending=False)"
   ]
  },
  {
   "cell_type": "code",
   "execution_count": 124,
   "id": "8f6cc5f7",
   "metadata": {},
   "outputs": [],
   "source": [
    "Actor_in_country_Canada = asbl_updated_1[asbl_updated_1['Country'] == 'Canada'].groupby('Cast').size().reset_index().rename(columns={0:'count'})"
   ]
  },
  {
   "cell_type": "code",
   "execution_count": 125,
   "id": "38547204",
   "metadata": {},
   "outputs": [
    {
     "data": {
      "text/html": [
       "<div>\n",
       "<style scoped>\n",
       "    .dataframe tbody tr th:only-of-type {\n",
       "        vertical-align: middle;\n",
       "    }\n",
       "\n",
       "    .dataframe tbody tr th {\n",
       "        vertical-align: top;\n",
       "    }\n",
       "\n",
       "    .dataframe thead th {\n",
       "        text-align: right;\n",
       "    }\n",
       "</style>\n",
       "<table border=\"1\" class=\"dataframe\">\n",
       "  <thead>\n",
       "    <tr style=\"text-align: right;\">\n",
       "      <th></th>\n",
       "      <th>Cast</th>\n",
       "      <th>count</th>\n",
       "    </tr>\n",
       "  </thead>\n",
       "  <tbody>\n",
       "    <tr>\n",
       "      <th>0</th>\n",
       "      <td>Aaron Keogh, Molly Reisman, Dean Tardioli, Gre...</td>\n",
       "      <td>1</td>\n",
       "    </tr>\n",
       "    <tr>\n",
       "      <th>79</th>\n",
       "      <td>Patrick Huard, Colm Feore, Sylvain Marcel, Luc...</td>\n",
       "      <td>1</td>\n",
       "    </tr>\n",
       "    <tr>\n",
       "      <th>77</th>\n",
       "      <td>Nina Kiri, Ry Barrett, Jorja Cadence, Will Kin...</td>\n",
       "      <td>1</td>\n",
       "    </tr>\n",
       "    <tr>\n",
       "      <th>76</th>\n",
       "      <td>Nicolas Cage, Sarah Lind, Hugh Dillon, Jakob D...</td>\n",
       "      <td>1</td>\n",
       "    </tr>\n",
       "    <tr>\n",
       "      <th>75</th>\n",
       "      <td>Natalie Hall, Evan Williams, Michael Gordon Sh...</td>\n",
       "      <td>1</td>\n",
       "    </tr>\n",
       "    <tr>\n",
       "      <th>...</th>\n",
       "      <td>...</td>\n",
       "      <td>...</td>\n",
       "    </tr>\n",
       "    <tr>\n",
       "      <th>32</th>\n",
       "      <td>Hamish Linklater, Eve Hewson, Avan Jogia, Andi...</td>\n",
       "      <td>1</td>\n",
       "    </tr>\n",
       "    <tr>\n",
       "      <th>31</th>\n",
       "      <td>Guillaume Laurin, Marie-Evelyne Lessard, Réal ...</td>\n",
       "      <td>1</td>\n",
       "    </tr>\n",
       "    <tr>\n",
       "      <th>30</th>\n",
       "      <td>Gord Downie, Paul Langlois, Gord Sinclair, Rob...</td>\n",
       "      <td>1</td>\n",
       "    </tr>\n",
       "    <tr>\n",
       "      <th>29</th>\n",
       "      <td>Erika Linder, Natalie Krill, Sebastian Pigott,...</td>\n",
       "      <td>1</td>\n",
       "    </tr>\n",
       "    <tr>\n",
       "      <th>105</th>\n",
       "      <td>Yara Shahidi, Miles Robbins, Miguel J. Pimente...</td>\n",
       "      <td>1</td>\n",
       "    </tr>\n",
       "  </tbody>\n",
       "</table>\n",
       "<p>106 rows × 2 columns</p>\n",
       "</div>"
      ],
      "text/plain": [
       "                                                  Cast  count\n",
       "0    Aaron Keogh, Molly Reisman, Dean Tardioli, Gre...      1\n",
       "79   Patrick Huard, Colm Feore, Sylvain Marcel, Luc...      1\n",
       "77   Nina Kiri, Ry Barrett, Jorja Cadence, Will Kin...      1\n",
       "76   Nicolas Cage, Sarah Lind, Hugh Dillon, Jakob D...      1\n",
       "75   Natalie Hall, Evan Williams, Michael Gordon Sh...      1\n",
       "..                                                 ...    ...\n",
       "32   Hamish Linklater, Eve Hewson, Avan Jogia, Andi...      1\n",
       "31   Guillaume Laurin, Marie-Evelyne Lessard, Réal ...      1\n",
       "30   Gord Downie, Paul Langlois, Gord Sinclair, Rob...      1\n",
       "29   Erika Linder, Natalie Krill, Sebastian Pigott,...      1\n",
       "105  Yara Shahidi, Miles Robbins, Miguel J. Pimente...      1\n",
       "\n",
       "[106 rows x 2 columns]"
      ]
     },
     "execution_count": 125,
     "metadata": {},
     "output_type": "execute_result"
    }
   ],
   "source": [
    "Actor_in_country_Canada.sort_values(by=['count'],ascending=False)"
   ]
  },
  {
   "cell_type": "code",
   "execution_count": 126,
   "id": "3728b126",
   "metadata": {},
   "outputs": [],
   "source": [
    "Actor_in_country_Spain = asbl_updated_1[asbl_updated_1['Country'] == 'Spain'].groupby('Cast').size().reset_index().rename(columns={0:'count'})"
   ]
  },
  {
   "cell_type": "code",
   "execution_count": 127,
   "id": "987889fe",
   "metadata": {},
   "outputs": [
    {
     "data": {
      "text/html": [
       "<div>\n",
       "<style scoped>\n",
       "    .dataframe tbody tr th:only-of-type {\n",
       "        vertical-align: middle;\n",
       "    }\n",
       "\n",
       "    .dataframe tbody tr th {\n",
       "        vertical-align: top;\n",
       "    }\n",
       "\n",
       "    .dataframe thead th {\n",
       "        text-align: right;\n",
       "    }\n",
       "</style>\n",
       "<table border=\"1\" class=\"dataframe\">\n",
       "  <thead>\n",
       "    <tr style=\"text-align: right;\">\n",
       "      <th></th>\n",
       "      <th>Cast</th>\n",
       "      <th>count</th>\n",
       "    </tr>\n",
       "  </thead>\n",
       "  <tbody>\n",
       "    <tr>\n",
       "      <th>0</th>\n",
       "      <td>Adriana Ugarte, Chino Darín, Javier Gutiérrez,...</td>\n",
       "      <td>1</td>\n",
       "    </tr>\n",
       "    <tr>\n",
       "      <th>68</th>\n",
       "      <td>Nathalie Seseña, Goyo Jiménez, José Juan Vaque...</td>\n",
       "      <td>1</td>\n",
       "    </tr>\n",
       "    <tr>\n",
       "      <th>66</th>\n",
       "      <td>Natalia de Molina, Daniel Grao, Natalia Mateo,...</td>\n",
       "      <td>1</td>\n",
       "    </tr>\n",
       "    <tr>\n",
       "      <th>65</th>\n",
       "      <td>Michelle Jenner, Itzan Escamilla, Sergio Mur, ...</td>\n",
       "      <td>1</td>\n",
       "    </tr>\n",
       "    <tr>\n",
       "      <th>64</th>\n",
       "      <td>María Pedraza, Pol Monen, Natalia Tena, Nacho ...</td>\n",
       "      <td>1</td>\n",
       "    </tr>\n",
       "    <tr>\n",
       "      <th>...</th>\n",
       "      <td>...</td>\n",
       "      <td>...</td>\n",
       "    </tr>\n",
       "    <tr>\n",
       "      <th>28</th>\n",
       "      <td>Emma Suárez, Jorge Bosch, Álvaro Cervantes, Ca...</td>\n",
       "      <td>1</td>\n",
       "    </tr>\n",
       "    <tr>\n",
       "      <th>27</th>\n",
       "      <td>Emilio Palacios, Jorge Clemente, Beatriz Medin...</td>\n",
       "      <td>1</td>\n",
       "    </tr>\n",
       "    <tr>\n",
       "      <th>26</th>\n",
       "      <td>Eduardo Noriega, Michelle Jenner, Fele Martíne...</td>\n",
       "      <td>1</td>\n",
       "    </tr>\n",
       "    <tr>\n",
       "      <th>25</th>\n",
       "      <td>Eduard Fernández, José Coronado, Marta Etura, ...</td>\n",
       "      <td>1</td>\n",
       "    </tr>\n",
       "    <tr>\n",
       "      <th>90</th>\n",
       "      <td>Úrsula Corberó, Álvaro Cervantes, Najwa Nimri,...</td>\n",
       "      <td>1</td>\n",
       "    </tr>\n",
       "  </tbody>\n",
       "</table>\n",
       "<p>91 rows × 2 columns</p>\n",
       "</div>"
      ],
      "text/plain": [
       "                                                 Cast  count\n",
       "0   Adriana Ugarte, Chino Darín, Javier Gutiérrez,...      1\n",
       "68  Nathalie Seseña, Goyo Jiménez, José Juan Vaque...      1\n",
       "66  Natalia de Molina, Daniel Grao, Natalia Mateo,...      1\n",
       "65  Michelle Jenner, Itzan Escamilla, Sergio Mur, ...      1\n",
       "64  María Pedraza, Pol Monen, Natalia Tena, Nacho ...      1\n",
       "..                                                ...    ...\n",
       "28  Emma Suárez, Jorge Bosch, Álvaro Cervantes, Ca...      1\n",
       "27  Emilio Palacios, Jorge Clemente, Beatriz Medin...      1\n",
       "26  Eduardo Noriega, Michelle Jenner, Fele Martíne...      1\n",
       "25  Eduard Fernández, José Coronado, Marta Etura, ...      1\n",
       "90  Úrsula Corberó, Álvaro Cervantes, Najwa Nimri,...      1\n",
       "\n",
       "[91 rows x 2 columns]"
      ]
     },
     "execution_count": 127,
     "metadata": {},
     "output_type": "execute_result"
    }
   ],
   "source": [
    "Actor_in_country_Spain.sort_values(by=['count'],ascending=False)"
   ]
  },
  {
   "cell_type": "code",
   "execution_count": null,
   "id": "acc916d3",
   "metadata": {},
   "outputs": [],
   "source": [
    "# Top 5 Country and Actors who are famous in those Countries"
   ]
  },
  {
   "cell_type": "code",
   "execution_count": null,
   "id": "a6d74285",
   "metadata": {},
   "outputs": [],
   "source": []
  },
  {
   "cell_type": "code",
   "execution_count": 19,
   "id": "d8d10b8d",
   "metadata": {},
   "outputs": [
    {
     "name": "stdout",
     "output_type": "stream",
     "text": [
      "Cast\n",
      " Samuel West                                                                                                                                                      10\n",
      "Jeff Dunham                                                                                                                                                       7\n",
      "Kevin Hart                                                                                                                                                        6\n",
      "Jim Gaffigan                                                                                                                                                      5\n",
      "Bill Burr                                                                                                                                                         5\n",
      "                                                                                                                                                                 ..\n",
      "Ryan Reynolds, Mélanie Laurent, Corey Hawkins, Dave Franco, Adria Arjona, Manuel Garcia-Rulfo, Ben Hardy, Lior Raz, Payman Maadi, Yuri Kolokolnikov, Kim Kold     1\n",
      "Hrithik Roshan, Abhay Deol, Farhan Akhtar, Katrina Kaif, Kalki Koechlin, Deepti Naval, Naseeruddin Shah, Ariadna Cabrol                                           1\n",
      "Aamir Khan, Rani Mukerji, Kareena Kapoor, Nawazuddin Siddiqui, Shernaz Patel, Sheeba Chaddha                                                                      1\n",
      "Farhan Akhtar, Arjun Rampal, Purab Kohli, Luke Kenny, Prachi Desai, Shahana Goswami, Koel Purie                                                                   1\n",
      "Vicky Kaushal, Sarah-Jane Dias, Raaghav Chanana, Manish Chaudhary, Meghna Malik, Malkeet Rauni, Anita Shabdish, Chittaranjan Tripathy                             1\n",
      "Name: Cast, Length: 4769, dtype: int64\n"
     ]
    }
   ],
   "source": [
    "print('Cast\\n',asbl_updated_1.Cast.value_counts())"
   ]
  },
  {
   "cell_type": "code",
   "execution_count": 55,
   "id": "e1f60dc8",
   "metadata": {},
   "outputs": [],
   "source": [
    "Actor = asbl_updated_1.Cast.value_counts().index"
   ]
  },
  {
   "cell_type": "code",
   "execution_count": 56,
   "id": "7ed93fbc",
   "metadata": {},
   "outputs": [],
   "source": [
    "Actor_work = asbl_updated_1.Cast.value_counts().values"
   ]
  },
  {
   "cell_type": "code",
   "execution_count": 57,
   "id": "87c6848b",
   "metadata": {},
   "outputs": [
    {
     "data": {
      "text/plain": [
       "([<matplotlib.patches.Wedge at 0x205839fbbb0>,\n",
       "  <matplotlib.patches.Wedge at 0x20583a07280>,\n",
       "  <matplotlib.patches.Wedge at 0x20583a079a0>,\n",
       "  <matplotlib.patches.Wedge at 0x20583a11130>,\n",
       "  <matplotlib.patches.Wedge at 0x20583a11850>],\n",
       " [Text(0.6380625751062828, 0.8960335653583181, 'Samuel West'),\n",
       "  Text(-0.9253789316708985, 0.5947048283136995, 'Jeff Dunham'),\n",
       "  Text(-0.8646583270487659, -0.6799749829701308, 'Kevin Hart'),\n",
       "  Text(0.15654647964602333, -1.0888035634174043, 'Jim Gaffigan'),\n",
       "  Text(0.9777190807550031, -0.5040490046886235, 'Bill Burr')],\n",
       " [Text(0.34803413187615423, 0.4887455811045371, '30.30%'),\n",
       "  Text(-0.5047521445477627, 0.32438445180747244, '21.21%'),\n",
       "  Text(-0.4716318147538722, -0.3708954452564349, '18.18%'),\n",
       "  Text(0.08538898889783089, -0.5938928527731295, '15.15%'),\n",
       "  Text(0.5333013167754562, -0.2749358207392491, '15.15%')])"
      ]
     },
     "execution_count": 57,
     "metadata": {},
     "output_type": "execute_result"
    },
    {
     "data": {
      "image/png": "[encoded data removed]",
      "text/plain": [
       "<Figure size 432x288 with 1 Axes>"
      ]
     },
     "metadata": {},
     "output_type": "display_data"
    }
   ],
   "source": [
    "plt.pie(Actor_work[:5],labels = Actor[:5],autopct='%1.2f%%')"
   ]
  },
  {
   "cell_type": "code",
   "execution_count": 20,
   "id": "37493d0c",
   "metadata": {},
   "outputs": [],
   "source": [
    "# Samuel West,Jeff Dunham ,Kevin Hart ,Jim Gaffigan ,Bill Burr are Actors with whom Netflix should work ."
   ]
  },
  {
   "cell_type": "code",
   "execution_count": 105,
   "id": "fe1a1a89",
   "metadata": {},
   "outputs": [
    {
     "data": {
      "text/html": [
       "<div>\n",
       "<style scoped>\n",
       "    .dataframe tbody tr th:only-of-type {\n",
       "        vertical-align: middle;\n",
       "    }\n",
       "\n",
       "    .dataframe tbody tr th {\n",
       "        vertical-align: top;\n",
       "    }\n",
       "\n",
       "    .dataframe thead th {\n",
       "        text-align: right;\n",
       "    }\n",
       "</style>\n",
       "<table border=\"1\" class=\"dataframe\">\n",
       "  <thead>\n",
       "    <tr style=\"text-align: right;\">\n",
       "      <th></th>\n",
       "      <th>Genres</th>\n",
       "      <th>count</th>\n",
       "    </tr>\n",
       "  </thead>\n",
       "  <tbody>\n",
       "    <tr>\n",
       "      <th>0</th>\n",
       "      <td>Documentaries</td>\n",
       "      <td>3</td>\n",
       "    </tr>\n",
       "    <tr>\n",
       "      <th>1</th>\n",
       "      <td>Documentaries, International Movies</td>\n",
       "      <td>7</td>\n",
       "    </tr>\n",
       "  </tbody>\n",
       "</table>\n",
       "</div>"
      ],
      "text/plain": [
       "                                Genres  count\n",
       "0                        Documentaries      3\n",
       "1  Documentaries, International Movies      7"
      ]
     },
     "execution_count": 105,
     "metadata": {},
     "output_type": "execute_result"
    }
   ],
   "source": [
    "asbl_updated_1[asbl_updated_1['Cast'] == 'Samuel West'].groupby('Genres').size().reset_index().rename(columns={0:'count'})"
   ]
  },
  {
   "cell_type": "code",
   "execution_count": 106,
   "id": "c8f5e3b2",
   "metadata": {},
   "outputs": [
    {
     "data": {
      "text/html": [
       "<div>\n",
       "<style scoped>\n",
       "    .dataframe tbody tr th:only-of-type {\n",
       "        vertical-align: middle;\n",
       "    }\n",
       "\n",
       "    .dataframe tbody tr th {\n",
       "        vertical-align: top;\n",
       "    }\n",
       "\n",
       "    .dataframe thead th {\n",
       "        text-align: right;\n",
       "    }\n",
       "</style>\n",
       "<table border=\"1\" class=\"dataframe\">\n",
       "  <thead>\n",
       "    <tr style=\"text-align: right;\">\n",
       "      <th></th>\n",
       "      <th>Genres</th>\n",
       "      <th>count</th>\n",
       "    </tr>\n",
       "  </thead>\n",
       "  <tbody>\n",
       "    <tr>\n",
       "      <th>0</th>\n",
       "      <td>Stand-Up Comedy</td>\n",
       "      <td>7</td>\n",
       "    </tr>\n",
       "  </tbody>\n",
       "</table>\n",
       "</div>"
      ],
      "text/plain": [
       "            Genres  count\n",
       "0  Stand-Up Comedy      7"
      ]
     },
     "execution_count": 106,
     "metadata": {},
     "output_type": "execute_result"
    }
   ],
   "source": [
    "asbl_updated_1[asbl_updated_1['Cast'] == 'Jeff Dunham'].groupby('Genres').size().reset_index().rename(columns={0:'count'})"
   ]
  },
  {
   "cell_type": "code",
   "execution_count": 107,
   "id": "9e5a97bf",
   "metadata": {},
   "outputs": [
    {
     "data": {
      "text/html": [
       "<div>\n",
       "<style scoped>\n",
       "    .dataframe tbody tr th:only-of-type {\n",
       "        vertical-align: middle;\n",
       "    }\n",
       "\n",
       "    .dataframe tbody tr th {\n",
       "        vertical-align: top;\n",
       "    }\n",
       "\n",
       "    .dataframe thead th {\n",
       "        text-align: right;\n",
       "    }\n",
       "</style>\n",
       "<table border=\"1\" class=\"dataframe\">\n",
       "  <thead>\n",
       "    <tr style=\"text-align: right;\">\n",
       "      <th></th>\n",
       "      <th>Genres</th>\n",
       "      <th>count</th>\n",
       "    </tr>\n",
       "  </thead>\n",
       "  <tbody>\n",
       "    <tr>\n",
       "      <th>0</th>\n",
       "      <td>Stand-Up Comedy</td>\n",
       "      <td>6</td>\n",
       "    </tr>\n",
       "  </tbody>\n",
       "</table>\n",
       "</div>"
      ],
      "text/plain": [
       "            Genres  count\n",
       "0  Stand-Up Comedy      6"
      ]
     },
     "execution_count": 107,
     "metadata": {},
     "output_type": "execute_result"
    }
   ],
   "source": [
    "asbl_updated_1[asbl_updated_1['Cast'] == 'Kevin Hart'].groupby('Genres').size().reset_index().rename(columns={0:'count'})"
   ]
  },
  {
   "cell_type": "code",
   "execution_count": 108,
   "id": "e29b06be",
   "metadata": {},
   "outputs": [
    {
     "data": {
      "text/html": [
       "<div>\n",
       "<style scoped>\n",
       "    .dataframe tbody tr th:only-of-type {\n",
       "        vertical-align: middle;\n",
       "    }\n",
       "\n",
       "    .dataframe tbody tr th {\n",
       "        vertical-align: top;\n",
       "    }\n",
       "\n",
       "    .dataframe thead th {\n",
       "        text-align: right;\n",
       "    }\n",
       "</style>\n",
       "<table border=\"1\" class=\"dataframe\">\n",
       "  <thead>\n",
       "    <tr style=\"text-align: right;\">\n",
       "      <th></th>\n",
       "      <th>Genres</th>\n",
       "      <th>count</th>\n",
       "    </tr>\n",
       "  </thead>\n",
       "  <tbody>\n",
       "    <tr>\n",
       "      <th>0</th>\n",
       "      <td>Stand-Up Comedy</td>\n",
       "      <td>5</td>\n",
       "    </tr>\n",
       "  </tbody>\n",
       "</table>\n",
       "</div>"
      ],
      "text/plain": [
       "            Genres  count\n",
       "0  Stand-Up Comedy      5"
      ]
     },
     "execution_count": 108,
     "metadata": {},
     "output_type": "execute_result"
    }
   ],
   "source": [
    "asbl_updated_1[asbl_updated_1['Cast'] == 'Jim Gaffigan'].groupby('Genres').size().reset_index().rename(columns={0:'count'})"
   ]
  },
  {
   "cell_type": "code",
   "execution_count": 109,
   "id": "daaad0c7",
   "metadata": {},
   "outputs": [
    {
     "data": {
      "text/html": [
       "<div>\n",
       "<style scoped>\n",
       "    .dataframe tbody tr th:only-of-type {\n",
       "        vertical-align: middle;\n",
       "    }\n",
       "\n",
       "    .dataframe tbody tr th {\n",
       "        vertical-align: top;\n",
       "    }\n",
       "\n",
       "    .dataframe thead th {\n",
       "        text-align: right;\n",
       "    }\n",
       "</style>\n",
       "<table border=\"1\" class=\"dataframe\">\n",
       "  <thead>\n",
       "    <tr style=\"text-align: right;\">\n",
       "      <th></th>\n",
       "      <th>Genres</th>\n",
       "      <th>count</th>\n",
       "    </tr>\n",
       "  </thead>\n",
       "  <tbody>\n",
       "    <tr>\n",
       "      <th>0</th>\n",
       "      <td>Stand-Up Comedy</td>\n",
       "      <td>5</td>\n",
       "    </tr>\n",
       "  </tbody>\n",
       "</table>\n",
       "</div>"
      ],
      "text/plain": [
       "            Genres  count\n",
       "0  Stand-Up Comedy      5"
      ]
     },
     "execution_count": 109,
     "metadata": {},
     "output_type": "execute_result"
    }
   ],
   "source": [
    "asbl_updated_1[asbl_updated_1['Cast'] == 'Bill Burr'].groupby('Genres').size().reset_index().rename(columns={0:'count'})"
   ]
  },
  {
   "cell_type": "code",
   "execution_count": null,
   "id": "e8c5bde5",
   "metadata": {},
   "outputs": [],
   "source": [
    "# Top 5 Actor and their working Genres"
   ]
  },
  {
   "cell_type": "code",
   "execution_count": null,
   "id": "5341a835",
   "metadata": {},
   "outputs": [],
   "source": []
  },
  {
   "cell_type": "code",
   "execution_count": 21,
   "id": "d30053e9",
   "metadata": {},
   "outputs": [
    {
     "name": "stdout",
     "output_type": "stream",
     "text": [
      "Genres\n",
      " Dramas, International Movies                                         321\n",
      "Stand-Up Comedy                                                      273\n",
      "Comedies, Dramas, International Movies                               243\n",
      "Dramas, Independent Movies, International Movies                     235\n",
      "Children & Family Movies, Comedies                                   169\n",
      "                                                                    ... \n",
      "Anime Features, International Movies, Sci-Fi & Fantasy                 1\n",
      "International TV Shows, Stand-Up Comedy & Talk Shows, TV Comedies      1\n",
      "International TV Shows, Spanish-Language TV Shows, TV Comedies         1\n",
      "International TV Shows, TV Action & Adventure, TV Comedies             1\n",
      "Cult Movies, Dramas, Thrillers                                         1\n",
      "Name: Genres, Length: 294, dtype: int64\n"
     ]
    }
   ],
   "source": [
    "print('Genres\\n',asbl_updated_1.Genres.value_counts())"
   ]
  },
  {
   "cell_type": "code",
   "execution_count": 58,
   "id": "fa5b43b9",
   "metadata": {},
   "outputs": [
    {
     "data": {
      "text/plain": [
       "([<matplotlib.patches.Wedge at 0x20583a46670>,\n",
       "  <matplotlib.patches.Wedge at 0x20583a46d90>,\n",
       "  <matplotlib.patches.Wedge at 0x20583a524f0>,\n",
       "  <matplotlib.patches.Wedge at 0x20583a52c10>,\n",
       "  <matplotlib.patches.Wedge at 0x20583a5b3a0>],\n",
       " [Text(0.756364820996075, 0.798694095107492, 'Dramas, International Movies'),\n",
       "  Text(-0.7461950737055185, 0.8082035090109518, 'Stand-Up Comedy'),\n",
       "  Text(-0.97519348799151, -0.5089181279724205, 'Comedies, Dramas, International Movies'),\n",
       "  Text(0.13195245168071143, -1.092057027126079, 'Dramas, Independent Movies, International Movies'),\n",
       "  Text(1.000857969899713, -0.4563806789164339, 'Children & Family Movies, Comedies')],\n",
       " [Text(0.4125626296342227, 0.4356513246040865, '25.87%'),\n",
       "  Text(-0.4070154947484646, 0.4408382776423373, '22.00%'),\n",
       "  Text(-0.5319237207226417, -0.2775917061667748, '19.58%'),\n",
       "  Text(0.07197406455311531, -0.5956674693414976, '18.94%'),\n",
       "  Text(0.5459225290362071, -0.2489349157726003, '13.62%')])"
      ]
     },
     "execution_count": 58,
     "metadata": {},
     "output_type": "execute_result"
    },
    {
     "data": {
      "image/png": "[encoded data removed]",
      "text/plain": [
       "<Figure size 432x288 with 1 Axes>"
      ]
     },
     "metadata": {},
     "output_type": "display_data"
    }
   ],
   "source": [
    "Genres_name = asbl_updated_1.Genres.value_counts().index\n",
    "Genres_value = asbl_updated_1.Genres.value_counts().values\n",
    "plt.pie(Genres_value [:5],labels = Genres_name[:5],autopct='%1.2f%%')"
   ]
  },
  {
   "cell_type": "code",
   "execution_count": 22,
   "id": "1ae2de9a",
   "metadata": {},
   "outputs": [],
   "source": [
    "# Genres\n",
    "# [Dramas, International Movies                                         \n",
    "# Stand-Up Comedy                                                      \n",
    "# Comedies, Dramas, International Movies                             \n",
    "# Dramas, Independent Movies, International Movies                     \n",
    "# Children & Family Movies, Comedies] are most followed genres by poeple."
   ]
  },
  {
   "cell_type": "code",
   "execution_count": 75,
   "id": "e9139f23",
   "metadata": {},
   "outputs": [],
   "source": [
    "Director_1 = asbl_updated_1[asbl_updated_1['Genres'] == 'Dramas, International Movies'].groupby('Director').size().reset_index().rename(columns={0:'count'})"
   ]
  },
  {
   "cell_type": "code",
   "execution_count": 128,
   "id": "abaefe1c",
   "metadata": {},
   "outputs": [
    {
     "data": {
      "text/html": [
       "<div>\n",
       "<style scoped>\n",
       "    .dataframe tbody tr th:only-of-type {\n",
       "        vertical-align: middle;\n",
       "    }\n",
       "\n",
       "    .dataframe tbody tr th {\n",
       "        vertical-align: top;\n",
       "    }\n",
       "\n",
       "    .dataframe thead th {\n",
       "        text-align: right;\n",
       "    }\n",
       "</style>\n",
       "<table border=\"1\" class=\"dataframe\">\n",
       "  <thead>\n",
       "    <tr style=\"text-align: right;\">\n",
       "      <th></th>\n",
       "      <th>Director</th>\n",
       "      <th>count</th>\n",
       "    </tr>\n",
       "  </thead>\n",
       "  <tbody>\n",
       "    <tr>\n",
       "      <th>88</th>\n",
       "      <td>Hanung Bramantyo</td>\n",
       "      <td>5</td>\n",
       "    </tr>\n",
       "    <tr>\n",
       "      <th>144</th>\n",
       "      <td>Madhur Bhandarkar</td>\n",
       "      <td>4</td>\n",
       "    </tr>\n",
       "    <tr>\n",
       "      <th>145</th>\n",
       "      <td>Mahesh Manjrekar</td>\n",
       "      <td>4</td>\n",
       "    </tr>\n",
       "    <tr>\n",
       "      <th>217</th>\n",
       "      <td>Riri Riza</td>\n",
       "      <td>4</td>\n",
       "    </tr>\n",
       "    <tr>\n",
       "      <th>200</th>\n",
       "      <td>Prakash Jha</td>\n",
       "      <td>3</td>\n",
       "    </tr>\n",
       "    <tr>\n",
       "      <th>...</th>\n",
       "      <td>...</td>\n",
       "      <td>...</td>\n",
       "    </tr>\n",
       "    <tr>\n",
       "      <th>104</th>\n",
       "      <td>Jastis Arimba</td>\n",
       "      <td>1</td>\n",
       "    </tr>\n",
       "    <tr>\n",
       "      <th>105</th>\n",
       "      <td>Jayaraj Rajasekharan Nair</td>\n",
       "      <td>1</td>\n",
       "    </tr>\n",
       "    <tr>\n",
       "      <th>106</th>\n",
       "      <td>Jayme Monjardim</td>\n",
       "      <td>1</td>\n",
       "    </tr>\n",
       "    <tr>\n",
       "      <th>107</th>\n",
       "      <td>Jean-Claude Flamand-Barny</td>\n",
       "      <td>1</td>\n",
       "    </tr>\n",
       "    <tr>\n",
       "      <th>287</th>\n",
       "      <td>Çagan Irmak</td>\n",
       "      <td>1</td>\n",
       "    </tr>\n",
       "  </tbody>\n",
       "</table>\n",
       "<p>288 rows × 2 columns</p>\n",
       "</div>"
      ],
      "text/plain": [
       "                      Director  count\n",
       "88            Hanung Bramantyo      5\n",
       "144          Madhur Bhandarkar      4\n",
       "145           Mahesh Manjrekar      4\n",
       "217                  Riri Riza      4\n",
       "200                Prakash Jha      3\n",
       "..                         ...    ...\n",
       "104              Jastis Arimba      1\n",
       "105  Jayaraj Rajasekharan Nair      1\n",
       "106            Jayme Monjardim      1\n",
       "107  Jean-Claude Flamand-Barny      1\n",
       "287                Çagan Irmak      1\n",
       "\n",
       "[288 rows x 2 columns]"
      ]
     },
     "execution_count": 128,
     "metadata": {},
     "output_type": "execute_result"
    }
   ],
   "source": [
    "Director_1.sort_values(by=['count'],ascending=False)"
   ]
  },
  {
   "cell_type": "code",
   "execution_count": 94,
   "id": "1a0cfc43",
   "metadata": {},
   "outputs": [],
   "source": [
    "Director_2 = asbl_updated_1[asbl_updated_1['Genres'] == 'Stand-Up Comedy'].groupby('Director').size().reset_index().rename(columns={0:'count'})"
   ]
  },
  {
   "cell_type": "code",
   "execution_count": 129,
   "id": "a14ecd7e",
   "metadata": {},
   "outputs": [
    {
     "data": {
      "text/html": [
       "<div>\n",
       "<style scoped>\n",
       "    .dataframe tbody tr th:only-of-type {\n",
       "        vertical-align: middle;\n",
       "    }\n",
       "\n",
       "    .dataframe tbody tr th {\n",
       "        vertical-align: top;\n",
       "    }\n",
       "\n",
       "    .dataframe thead th {\n",
       "        text-align: right;\n",
       "    }\n",
       "</style>\n",
       "<table border=\"1\" class=\"dataframe\">\n",
       "  <thead>\n",
       "    <tr style=\"text-align: right;\">\n",
       "      <th></th>\n",
       "      <th>Director</th>\n",
       "      <th>count</th>\n",
       "    </tr>\n",
       "  </thead>\n",
       "  <tbody>\n",
       "    <tr>\n",
       "      <th>122</th>\n",
       "      <td>Raúl Campos, Jan Suter</td>\n",
       "      <td>18</td>\n",
       "    </tr>\n",
       "    <tr>\n",
       "      <th>94</th>\n",
       "      <td>Marcus Raboy</td>\n",
       "      <td>14</td>\n",
       "    </tr>\n",
       "    <tr>\n",
       "      <th>54</th>\n",
       "      <td>Jay Karas</td>\n",
       "      <td>13</td>\n",
       "    </tr>\n",
       "    <tr>\n",
       "      <th>53</th>\n",
       "      <td>Jay Chapman</td>\n",
       "      <td>11</td>\n",
       "    </tr>\n",
       "    <tr>\n",
       "      <th>137</th>\n",
       "      <td>Shannon Hartman</td>\n",
       "      <td>8</td>\n",
       "    </tr>\n",
       "    <tr>\n",
       "      <th>...</th>\n",
       "      <td>...</td>\n",
       "      <td>...</td>\n",
       "    </tr>\n",
       "    <tr>\n",
       "      <th>50</th>\n",
       "      <td>Jan Suter, Raúl Campos Delgado</td>\n",
       "      <td>1</td>\n",
       "    </tr>\n",
       "    <tr>\n",
       "      <th>49</th>\n",
       "      <td>Jan Suter, Raúl Campos</td>\n",
       "      <td>1</td>\n",
       "    </tr>\n",
       "    <tr>\n",
       "      <th>48</th>\n",
       "      <td>Jan Suter</td>\n",
       "      <td>1</td>\n",
       "    </tr>\n",
       "    <tr>\n",
       "      <th>47</th>\n",
       "      <td>James Yukich</td>\n",
       "      <td>1</td>\n",
       "    </tr>\n",
       "    <tr>\n",
       "      <th>155</th>\n",
       "      <td>Y. Joon Chung</td>\n",
       "      <td>1</td>\n",
       "    </tr>\n",
       "  </tbody>\n",
       "</table>\n",
       "<p>156 rows × 2 columns</p>\n",
       "</div>"
      ],
      "text/plain": [
       "                           Director  count\n",
       "122          Raúl Campos, Jan Suter     18\n",
       "94                     Marcus Raboy     14\n",
       "54                        Jay Karas     13\n",
       "53                      Jay Chapman     11\n",
       "137                 Shannon Hartman      8\n",
       "..                              ...    ...\n",
       "50   Jan Suter, Raúl Campos Delgado      1\n",
       "49           Jan Suter, Raúl Campos      1\n",
       "48                        Jan Suter      1\n",
       "47                     James Yukich      1\n",
       "155                   Y. Joon Chung      1\n",
       "\n",
       "[156 rows x 2 columns]"
      ]
     },
     "execution_count": 129,
     "metadata": {},
     "output_type": "execute_result"
    }
   ],
   "source": [
    "Director_2.sort_values(by=['count'],ascending=False)"
   ]
  },
  {
   "cell_type": "code",
   "execution_count": 81,
   "id": "f461bc1f",
   "metadata": {},
   "outputs": [],
   "source": [
    "Director_3 = asbl_updated_1[asbl_updated_1['Genres'] == 'Comedies'].groupby('Director').size().reset_index().rename(columns={0:'count'})"
   ]
  },
  {
   "cell_type": "code",
   "execution_count": 130,
   "id": "1918bca3",
   "metadata": {},
   "outputs": [
    {
     "data": {
      "text/html": [
       "<div>\n",
       "<style scoped>\n",
       "    .dataframe tbody tr th:only-of-type {\n",
       "        vertical-align: middle;\n",
       "    }\n",
       "\n",
       "    .dataframe tbody tr th {\n",
       "        vertical-align: top;\n",
       "    }\n",
       "\n",
       "    .dataframe thead th {\n",
       "        text-align: right;\n",
       "    }\n",
       "</style>\n",
       "<table border=\"1\" class=\"dataframe\">\n",
       "  <thead>\n",
       "    <tr style=\"text-align: right;\">\n",
       "      <th></th>\n",
       "      <th>Director</th>\n",
       "      <th>count</th>\n",
       "    </tr>\n",
       "  </thead>\n",
       "  <tbody>\n",
       "    <tr>\n",
       "      <th>45</th>\n",
       "      <td>Jon Lucas, Scott Moore</td>\n",
       "      <td>2</td>\n",
       "    </tr>\n",
       "    <tr>\n",
       "      <th>0</th>\n",
       "      <td>Adam McKay</td>\n",
       "      <td>1</td>\n",
       "    </tr>\n",
       "    <tr>\n",
       "      <th>65</th>\n",
       "      <td>Neil LaBute</td>\n",
       "      <td>1</td>\n",
       "    </tr>\n",
       "    <tr>\n",
       "      <th>64</th>\n",
       "      <td>Neal Brennan</td>\n",
       "      <td>1</td>\n",
       "    </tr>\n",
       "    <tr>\n",
       "      <th>63</th>\n",
       "      <td>Natasha Lyonne</td>\n",
       "      <td>1</td>\n",
       "    </tr>\n",
       "    <tr>\n",
       "      <th>...</th>\n",
       "      <td>...</td>\n",
       "      <td>...</td>\n",
       "    </tr>\n",
       "    <tr>\n",
       "      <th>28</th>\n",
       "      <td>Ethan Coen, Joel Coen</td>\n",
       "      <td>1</td>\n",
       "    </tr>\n",
       "    <tr>\n",
       "      <th>27</th>\n",
       "      <td>Erik White</td>\n",
       "      <td>1</td>\n",
       "    </tr>\n",
       "    <tr>\n",
       "      <th>26</th>\n",
       "      <td>Eric Stoltz</td>\n",
       "      <td>1</td>\n",
       "    </tr>\n",
       "    <tr>\n",
       "      <th>25</th>\n",
       "      <td>Eric Idle</td>\n",
       "      <td>1</td>\n",
       "    </tr>\n",
       "    <tr>\n",
       "      <th>88</th>\n",
       "      <td>Zara Hayes</td>\n",
       "      <td>1</td>\n",
       "    </tr>\n",
       "  </tbody>\n",
       "</table>\n",
       "<p>89 rows × 2 columns</p>\n",
       "</div>"
      ],
      "text/plain": [
       "                  Director  count\n",
       "45  Jon Lucas, Scott Moore      2\n",
       "0               Adam McKay      1\n",
       "65             Neil LaBute      1\n",
       "64            Neal Brennan      1\n",
       "63          Natasha Lyonne      1\n",
       "..                     ...    ...\n",
       "28   Ethan Coen, Joel Coen      1\n",
       "27              Erik White      1\n",
       "26             Eric Stoltz      1\n",
       "25               Eric Idle      1\n",
       "88              Zara Hayes      1\n",
       "\n",
       "[89 rows x 2 columns]"
      ]
     },
     "execution_count": 130,
     "metadata": {},
     "output_type": "execute_result"
    }
   ],
   "source": [
    "Director_3.sort_values(by=['count'],ascending=False)"
   ]
  },
  {
   "cell_type": "code",
   "execution_count": 84,
   "id": "2ba6cecb",
   "metadata": {},
   "outputs": [
    {
     "data": {
      "text/html": [
       "<div>\n",
       "<style scoped>\n",
       "    .dataframe tbody tr th:only-of-type {\n",
       "        vertical-align: middle;\n",
       "    }\n",
       "\n",
       "    .dataframe tbody tr th {\n",
       "        vertical-align: top;\n",
       "    }\n",
       "\n",
       "    .dataframe thead th {\n",
       "        text-align: right;\n",
       "    }\n",
       "</style>\n",
       "<table border=\"1\" class=\"dataframe\">\n",
       "  <thead>\n",
       "    <tr style=\"text-align: right;\">\n",
       "      <th></th>\n",
       "      <th>Director</th>\n",
       "      <th>count</th>\n",
       "    </tr>\n",
       "  </thead>\n",
       "  <tbody>\n",
       "    <tr>\n",
       "      <th>0</th>\n",
       "      <td>Mark Landre Gould</td>\n",
       "      <td>1</td>\n",
       "    </tr>\n",
       "  </tbody>\n",
       "</table>\n",
       "</div>"
      ],
      "text/plain": [
       "            Director  count\n",
       "0  Mark Landre Gould      1"
      ]
     },
     "execution_count": 84,
     "metadata": {},
     "output_type": "execute_result"
    }
   ],
   "source": [
    "asbl_updated_1[asbl_updated_1['Genres'] == 'Independent Movies'].groupby('Director').size().reset_index().rename(columns={0:'count'})"
   ]
  },
  {
   "cell_type": "code",
   "execution_count": 88,
   "id": "f4e177e3",
   "metadata": {},
   "outputs": [],
   "source": [
    "Direcor_5 = asbl_updated_1[asbl_updated_1['Genres'] == 'Children & Family Movies'].groupby('Director').size().reset_index().rename(columns={0:'count'})"
   ]
  },
  {
   "cell_type": "code",
   "execution_count": 131,
   "id": "a0f92d56",
   "metadata": {},
   "outputs": [
    {
     "data": {
      "text/html": [
       "<div>\n",
       "<style scoped>\n",
       "    .dataframe tbody tr th:only-of-type {\n",
       "        vertical-align: middle;\n",
       "    }\n",
       "\n",
       "    .dataframe tbody tr th {\n",
       "        vertical-align: top;\n",
       "    }\n",
       "\n",
       "    .dataframe thead th {\n",
       "        text-align: right;\n",
       "    }\n",
       "</style>\n",
       "<table border=\"1\" class=\"dataframe\">\n",
       "  <thead>\n",
       "    <tr style=\"text-align: right;\">\n",
       "      <th></th>\n",
       "      <th>Director</th>\n",
       "      <th>count</th>\n",
       "    </tr>\n",
       "  </thead>\n",
       "  <tbody>\n",
       "    <tr>\n",
       "      <th>71</th>\n",
       "      <td>Rajiv Chilaka</td>\n",
       "      <td>3</td>\n",
       "    </tr>\n",
       "    <tr>\n",
       "      <th>76</th>\n",
       "      <td>Richard Weston</td>\n",
       "      <td>3</td>\n",
       "    </tr>\n",
       "    <tr>\n",
       "      <th>100</th>\n",
       "      <td>William Lau</td>\n",
       "      <td>3</td>\n",
       "    </tr>\n",
       "    <tr>\n",
       "      <th>13</th>\n",
       "      <td>Blair Simmons</td>\n",
       "      <td>3</td>\n",
       "    </tr>\n",
       "    <tr>\n",
       "      <th>39</th>\n",
       "      <td>Ishi Rudell</td>\n",
       "      <td>2</td>\n",
       "    </tr>\n",
       "    <tr>\n",
       "      <th>...</th>\n",
       "      <td>...</td>\n",
       "      <td>...</td>\n",
       "    </tr>\n",
       "    <tr>\n",
       "      <th>36</th>\n",
       "      <td>Henry Selick</td>\n",
       "      <td>1</td>\n",
       "    </tr>\n",
       "    <tr>\n",
       "      <th>35</th>\n",
       "      <td>Greg Richardson</td>\n",
       "      <td>1</td>\n",
       "    </tr>\n",
       "    <tr>\n",
       "      <th>34</th>\n",
       "      <td>Geoff Anderson</td>\n",
       "      <td>1</td>\n",
       "    </tr>\n",
       "    <tr>\n",
       "      <th>32</th>\n",
       "      <td>Eric D. Cabello Díaz</td>\n",
       "      <td>1</td>\n",
       "    </tr>\n",
       "    <tr>\n",
       "      <th>104</th>\n",
       "      <td>Zsolt Pálfi</td>\n",
       "      <td>1</td>\n",
       "    </tr>\n",
       "  </tbody>\n",
       "</table>\n",
       "<p>105 rows × 2 columns</p>\n",
       "</div>"
      ],
      "text/plain": [
       "                 Director  count\n",
       "71          Rajiv Chilaka      3\n",
       "76         Richard Weston      3\n",
       "100           William Lau      3\n",
       "13          Blair Simmons      3\n",
       "39            Ishi Rudell      2\n",
       "..                    ...    ...\n",
       "36           Henry Selick      1\n",
       "35        Greg Richardson      1\n",
       "34         Geoff Anderson      1\n",
       "32   Eric D. Cabello Díaz      1\n",
       "104           Zsolt Pálfi      1\n",
       "\n",
       "[105 rows x 2 columns]"
      ]
     },
     "execution_count": 131,
     "metadata": {},
     "output_type": "execute_result"
    }
   ],
   "source": [
    "Direcor_5.sort_values(by=['count'],ascending=False)"
   ]
  },
  {
   "cell_type": "code",
   "execution_count": null,
   "id": "e399e5bc",
   "metadata": {},
   "outputs": [],
   "source": [
    "# Top 5 Genres and top Directors who work on that Genres"
   ]
  },
  {
   "cell_type": "code",
   "execution_count": null,
   "id": "1b79c3f6",
   "metadata": {},
   "outputs": [],
   "source": []
  },
  {
   "cell_type": "code",
   "execution_count": 23,
   "id": "905f0c35",
   "metadata": {},
   "outputs": [
    {
     "name": "stdout",
     "output_type": "stream",
     "text": [
      "Director\n",
      " Raúl Campos, Jan Suter    18\n",
      "Marcus Raboy              15\n",
      "Jay Karas                 14\n",
      "Cathy Garcia-Molina       13\n",
      "Jay Chapman               12\n",
      "                          ..\n",
      "Kim Joo-hyung              1\n",
      "Louie Psihoyos             1\n",
      "Ahmet Katıksız             1\n",
      "Jean-François Blais        1\n",
      "Mozez Singh                1\n",
      "Name: Director, Length: 3714, dtype: int64\n"
     ]
    }
   ],
   "source": [
    "print('Director\\n',asbl_updated_1.Director.value_counts())"
   ]
  },
  {
   "cell_type": "code",
   "execution_count": 59,
   "id": "d4f63cec",
   "metadata": {},
   "outputs": [
    {
     "data": {
      "text/plain": [
       "([<matplotlib.patches.Wedge at 0x20583a8ae50>,\n",
       "  <matplotlib.patches.Wedge at 0x20583a965b0>,\n",
       "  <matplotlib.patches.Wedge at 0x20583a96cd0>,\n",
       "  <matplotlib.patches.Wedge at 0x20583a9e430>,\n",
       "  <matplotlib.patches.Wedge at 0x20583a9eb50>],\n",
       " [Text(0.7778174593052024, 0.7778174593052024, 'Raúl Campos, Jan Suter'),\n",
       "  Text(-0.6696375582917576, 0.872688684769691, 'Marcus Raboy'),\n",
       "  Text(-1.033661890692157, -0.3762221361519223, 'Jay Karas'),\n",
       "  Text(-0.04798134896662775, -1.0989530427417464, 'Cathy Garcia-Molina'),\n",
       "  Text(0.9526279355804297, -0.5500000148652443, 'Jay Chapman')],\n",
       " [Text(0.4242640687119285, 0.4242640687119285, '25.00%'),\n",
       "  Text(-0.3652568499773223, 0.47601200987437686, '20.83%'),\n",
       "  Text(-0.5638155767411764, -0.20521207426468485, '19.44%'),\n",
       "  Text(-0.02617164489088786, -0.5994289324045889, '18.06%'),\n",
       "  Text(0.5196152375893253, -0.300000008108315, '16.67%')])"
      ]
     },
     "execution_count": 59,
     "metadata": {},
     "output_type": "execute_result"
    },
    {
     "data": {
      "image/png": "[encoded data removed]",
      "text/plain": [
       "<Figure size 432x288 with 1 Axes>"
      ]
     },
     "metadata": {},
     "output_type": "display_data"
    }
   ],
   "source": [
    "Director_name = asbl_updated_1.Director.value_counts().index\n",
    "Director_value = asbl_updated_1.Director.value_counts().values\n",
    "plt.pie(Director_value [:5],labels = Director_name[:5],autopct='%1.2f%%')"
   ]
  },
  {
   "cell_type": "code",
   "execution_count": 24,
   "id": "8c6c341e",
   "metadata": {},
   "outputs": [],
   "source": [
    "# Raúl Campos, Jan Suter, Marcus Raboy, Jay Karas, Cathy Garcia-Molina, Jay Chapman are the drector \n",
    "# who have directed most of the content in between last 20 years "
   ]
  },
  {
   "cell_type": "code",
   "execution_count": 100,
   "id": "47820071",
   "metadata": {},
   "outputs": [
    {
     "data": {
      "text/html": [
       "<div>\n",
       "<style scoped>\n",
       "    .dataframe tbody tr th:only-of-type {\n",
       "        vertical-align: middle;\n",
       "    }\n",
       "\n",
       "    .dataframe tbody tr th {\n",
       "        vertical-align: top;\n",
       "    }\n",
       "\n",
       "    .dataframe thead th {\n",
       "        text-align: right;\n",
       "    }\n",
       "</style>\n",
       "<table border=\"1\" class=\"dataframe\">\n",
       "  <thead>\n",
       "    <tr style=\"text-align: right;\">\n",
       "      <th></th>\n",
       "      <th>Genres</th>\n",
       "      <th>count</th>\n",
       "    </tr>\n",
       "  </thead>\n",
       "  <tbody>\n",
       "    <tr>\n",
       "      <th>0</th>\n",
       "      <td>Stand-Up Comedy</td>\n",
       "      <td>18</td>\n",
       "    </tr>\n",
       "  </tbody>\n",
       "</table>\n",
       "</div>"
      ],
      "text/plain": [
       "            Genres  count\n",
       "0  Stand-Up Comedy     18"
      ]
     },
     "execution_count": 100,
     "metadata": {},
     "output_type": "execute_result"
    }
   ],
   "source": [
    "asbl_updated_1[asbl_updated_1['Director'] == 'Raúl Campos, Jan Suter'].groupby('Genres').size().reset_index().rename(columns={0:'count'})"
   ]
  },
  {
   "cell_type": "code",
   "execution_count": 101,
   "id": "83fb840f",
   "metadata": {},
   "outputs": [
    {
     "data": {
      "text/html": [
       "<div>\n",
       "<style scoped>\n",
       "    .dataframe tbody tr th:only-of-type {\n",
       "        vertical-align: middle;\n",
       "    }\n",
       "\n",
       "    .dataframe tbody tr th {\n",
       "        vertical-align: top;\n",
       "    }\n",
       "\n",
       "    .dataframe thead th {\n",
       "        text-align: right;\n",
       "    }\n",
       "</style>\n",
       "<table border=\"1\" class=\"dataframe\">\n",
       "  <thead>\n",
       "    <tr style=\"text-align: right;\">\n",
       "      <th></th>\n",
       "      <th>Genres</th>\n",
       "      <th>count</th>\n",
       "    </tr>\n",
       "  </thead>\n",
       "  <tbody>\n",
       "    <tr>\n",
       "      <th>0</th>\n",
       "      <td>Stand-Up Comedy</td>\n",
       "      <td>14</td>\n",
       "    </tr>\n",
       "    <tr>\n",
       "      <th>1</th>\n",
       "      <td>Stand-Up Comedy &amp; Talk Shows, TV Comedies</td>\n",
       "      <td>1</td>\n",
       "    </tr>\n",
       "  </tbody>\n",
       "</table>\n",
       "</div>"
      ],
      "text/plain": [
       "                                      Genres  count\n",
       "0                            Stand-Up Comedy     14\n",
       "1  Stand-Up Comedy & Talk Shows, TV Comedies      1"
      ]
     },
     "execution_count": 101,
     "metadata": {},
     "output_type": "execute_result"
    }
   ],
   "source": [
    "asbl_updated_1[asbl_updated_1['Director'] == 'Marcus Raboy'].groupby('Genres').size().reset_index().rename(columns={0:'count'})"
   ]
  },
  {
   "cell_type": "code",
   "execution_count": 102,
   "id": "b0fee574",
   "metadata": {},
   "outputs": [
    {
     "data": {
      "text/html": [
       "<div>\n",
       "<style scoped>\n",
       "    .dataframe tbody tr th:only-of-type {\n",
       "        vertical-align: middle;\n",
       "    }\n",
       "\n",
       "    .dataframe tbody tr th {\n",
       "        vertical-align: top;\n",
       "    }\n",
       "\n",
       "    .dataframe thead th {\n",
       "        text-align: right;\n",
       "    }\n",
       "</style>\n",
       "<table border=\"1\" class=\"dataframe\">\n",
       "  <thead>\n",
       "    <tr style=\"text-align: right;\">\n",
       "      <th></th>\n",
       "      <th>Genres</th>\n",
       "      <th>count</th>\n",
       "    </tr>\n",
       "  </thead>\n",
       "  <tbody>\n",
       "    <tr>\n",
       "      <th>0</th>\n",
       "      <td>Children &amp; Family Movies, Comedies, Sports Movies</td>\n",
       "      <td>1</td>\n",
       "    </tr>\n",
       "    <tr>\n",
       "      <th>1</th>\n",
       "      <td>Stand-Up Comedy</td>\n",
       "      <td>13</td>\n",
       "    </tr>\n",
       "  </tbody>\n",
       "</table>\n",
       "</div>"
      ],
      "text/plain": [
       "                                              Genres  count\n",
       "0  Children & Family Movies, Comedies, Sports Movies      1\n",
       "1                                    Stand-Up Comedy     13"
      ]
     },
     "execution_count": 102,
     "metadata": {},
     "output_type": "execute_result"
    }
   ],
   "source": [
    "asbl_updated_1[asbl_updated_1['Director'] == 'Jay Karas'].groupby('Genres').size().reset_index().rename(columns={0:'count'})"
   ]
  },
  {
   "cell_type": "code",
   "execution_count": 103,
   "id": "33b91bc8",
   "metadata": {},
   "outputs": [
    {
     "data": {
      "text/html": [
       "<div>\n",
       "<style scoped>\n",
       "    .dataframe tbody tr th:only-of-type {\n",
       "        vertical-align: middle;\n",
       "    }\n",
       "\n",
       "    .dataframe tbody tr th {\n",
       "        vertical-align: top;\n",
       "    }\n",
       "\n",
       "    .dataframe thead th {\n",
       "        text-align: right;\n",
       "    }\n",
       "</style>\n",
       "<table border=\"1\" class=\"dataframe\">\n",
       "  <thead>\n",
       "    <tr style=\"text-align: right;\">\n",
       "      <th></th>\n",
       "      <th>Genres</th>\n",
       "      <th>count</th>\n",
       "    </tr>\n",
       "  </thead>\n",
       "  <tbody>\n",
       "    <tr>\n",
       "      <th>0</th>\n",
       "      <td>Comedies, Dramas, International Movies</td>\n",
       "      <td>5</td>\n",
       "    </tr>\n",
       "    <tr>\n",
       "      <th>1</th>\n",
       "      <td>Comedies, International Movies, Romantic Movies</td>\n",
       "      <td>2</td>\n",
       "    </tr>\n",
       "    <tr>\n",
       "      <th>2</th>\n",
       "      <td>Dramas, International Movies, Romantic Movies</td>\n",
       "      <td>4</td>\n",
       "    </tr>\n",
       "    <tr>\n",
       "      <th>3</th>\n",
       "      <td>International Movies, Romantic Movies</td>\n",
       "      <td>2</td>\n",
       "    </tr>\n",
       "  </tbody>\n",
       "</table>\n",
       "</div>"
      ],
      "text/plain": [
       "                                            Genres  count\n",
       "0           Comedies, Dramas, International Movies      5\n",
       "1  Comedies, International Movies, Romantic Movies      2\n",
       "2    Dramas, International Movies, Romantic Movies      4\n",
       "3            International Movies, Romantic Movies      2"
      ]
     },
     "execution_count": 103,
     "metadata": {},
     "output_type": "execute_result"
    }
   ],
   "source": [
    "asbl_updated_1[asbl_updated_1['Director'] == 'Cathy Garcia-Molina'].groupby('Genres').size().reset_index().rename(columns={0:'count'})"
   ]
  },
  {
   "cell_type": "code",
   "execution_count": 104,
   "id": "ea0e35fc",
   "metadata": {},
   "outputs": [
    {
     "data": {
      "text/html": [
       "<div>\n",
       "<style scoped>\n",
       "    .dataframe tbody tr th:only-of-type {\n",
       "        vertical-align: middle;\n",
       "    }\n",
       "\n",
       "    .dataframe tbody tr th {\n",
       "        vertical-align: top;\n",
       "    }\n",
       "\n",
       "    .dataframe thead th {\n",
       "        text-align: right;\n",
       "    }\n",
       "</style>\n",
       "<table border=\"1\" class=\"dataframe\">\n",
       "  <thead>\n",
       "    <tr style=\"text-align: right;\">\n",
       "      <th></th>\n",
       "      <th>Genres</th>\n",
       "      <th>count</th>\n",
       "    </tr>\n",
       "  </thead>\n",
       "  <tbody>\n",
       "    <tr>\n",
       "      <th>0</th>\n",
       "      <td>Music &amp; Musicals, Stand-Up Comedy</td>\n",
       "      <td>1</td>\n",
       "    </tr>\n",
       "    <tr>\n",
       "      <th>1</th>\n",
       "      <td>Stand-Up Comedy</td>\n",
       "      <td>11</td>\n",
       "    </tr>\n",
       "  </tbody>\n",
       "</table>\n",
       "</div>"
      ],
      "text/plain": [
       "                              Genres  count\n",
       "0  Music & Musicals, Stand-Up Comedy      1\n",
       "1                    Stand-Up Comedy     11"
      ]
     },
     "execution_count": 104,
     "metadata": {},
     "output_type": "execute_result"
    }
   ],
   "source": [
    "asbl_updated_1[asbl_updated_1['Director'] == 'Jay Chapman'].groupby('Genres').size().reset_index().rename(columns={0:'count'})"
   ]
  },
  {
   "cell_type": "code",
   "execution_count": null,
   "id": "c878ef54",
   "metadata": {},
   "outputs": [],
   "source": [
    "# Top 5 Directors and their working Genres"
   ]
  },
  {
   "cell_type": "code",
   "execution_count": 25,
   "id": "865a1d0d",
   "metadata": {},
   "outputs": [],
   "source": [
    "asbl_movie = asbl_data.drop(asbl_data[asbl_data[\"Type\"] == \"TV Show\"].index)"
   ]
  },
  {
   "cell_type": "code",
   "execution_count": 26,
   "id": "e97161bc",
   "metadata": {},
   "outputs": [
    {
     "data": {
      "text/plain": [
       "(6131, 7)"
      ]
     },
     "execution_count": 26,
     "metadata": {},
     "output_type": "execute_result"
    }
   ],
   "source": [
    "asbl_movie.shape"
   ]
  },
  {
   "cell_type": "code",
   "execution_count": 27,
   "id": "e5e11012",
   "metadata": {},
   "outputs": [],
   "source": [
    "asbl_movie_re = asbl_updated_1.drop(asbl_updated_1[asbl_updated_1[\"Type\"] == \"TV Show\"].index)"
   ]
  },
  {
   "cell_type": "code",
   "execution_count": 28,
   "id": "28211190",
   "metadata": {},
   "outputs": [
    {
     "data": {
      "text/plain": [
       "(4749, 7)"
      ]
     },
     "execution_count": 28,
     "metadata": {},
     "output_type": "execute_result"
    }
   ],
   "source": [
    "asbl_movie_re.shape"
   ]
  },
  {
   "cell_type": "code",
   "execution_count": 29,
   "id": "d077abda",
   "metadata": {},
   "outputs": [],
   "source": [
    "# Number of Movies is significantly larger than number of TV Shows"
   ]
  },
  {
   "cell_type": "code",
   "execution_count": null,
   "id": "27ac2944",
   "metadata": {},
   "outputs": [],
   "source": []
  },
  {
   "cell_type": "code",
   "execution_count": 132,
   "id": "f4ececec",
   "metadata": {},
   "outputs": [],
   "source": [
    "Genres = asbl_updated_1.Genres.value_counts()"
   ]
  },
  {
   "cell_type": "code",
   "execution_count": 133,
   "id": "3bb23db4",
   "metadata": {},
   "outputs": [],
   "source": [
    "Genres_1 = Genres.head(10)"
   ]
  },
  {
   "cell_type": "code",
   "execution_count": null,
   "id": "cc65c82d",
   "metadata": {},
   "outputs": [],
   "source": [
    "Genres_name = Genres_1.index"
   ]
  },
  {
   "cell_type": "code",
   "execution_count": 134,
   "id": "90e4a685",
   "metadata": {},
   "outputs": [],
   "source": [
    "Genres_value = Genres_1.values"
   ]
  },
  {
   "cell_type": "code",
   "execution_count": 135,
   "id": "32ada138",
   "metadata": {},
   "outputs": [],
   "source": [
    "Genres_df = {'Genres_name': Genres_1.index,\n",
    "            'Genres_value': Genres_1.values}"
   ]
  },
  {
   "cell_type": "code",
   "execution_count": 136,
   "id": "f64ae0d2",
   "metadata": {},
   "outputs": [],
   "source": [
    "Genres_df = pd.DataFrame(Genres_df)"
   ]
  },
  {
   "cell_type": "code",
   "execution_count": 137,
   "id": "d5a4357b",
   "metadata": {},
   "outputs": [
    {
     "data": {
      "text/html": [
       "<div>\n",
       "<style scoped>\n",
       "    .dataframe tbody tr th:only-of-type {\n",
       "        vertical-align: middle;\n",
       "    }\n",
       "\n",
       "    .dataframe tbody tr th {\n",
       "        vertical-align: top;\n",
       "    }\n",
       "\n",
       "    .dataframe thead th {\n",
       "        text-align: right;\n",
       "    }\n",
       "</style>\n",
       "<table border=\"1\" class=\"dataframe\">\n",
       "  <thead>\n",
       "    <tr style=\"text-align: right;\">\n",
       "      <th></th>\n",
       "      <th>Genres_name</th>\n",
       "      <th>Genres_value</th>\n",
       "    </tr>\n",
       "  </thead>\n",
       "  <tbody>\n",
       "    <tr>\n",
       "      <th>0</th>\n",
       "      <td>Dramas, International Movies</td>\n",
       "      <td>321</td>\n",
       "    </tr>\n",
       "    <tr>\n",
       "      <th>1</th>\n",
       "      <td>Stand-Up Comedy</td>\n",
       "      <td>273</td>\n",
       "    </tr>\n",
       "    <tr>\n",
       "      <th>2</th>\n",
       "      <td>Comedies, Dramas, International Movies</td>\n",
       "      <td>243</td>\n",
       "    </tr>\n",
       "    <tr>\n",
       "      <th>3</th>\n",
       "      <td>Dramas, Independent Movies, International Movies</td>\n",
       "      <td>235</td>\n",
       "    </tr>\n",
       "    <tr>\n",
       "      <th>4</th>\n",
       "      <td>Children &amp; Family Movies, Comedies</td>\n",
       "      <td>169</td>\n",
       "    </tr>\n",
       "    <tr>\n",
       "      <th>5</th>\n",
       "      <td>Documentaries</td>\n",
       "      <td>154</td>\n",
       "    </tr>\n",
       "    <tr>\n",
       "      <th>6</th>\n",
       "      <td>Comedies, International Movies</td>\n",
       "      <td>149</td>\n",
       "    </tr>\n",
       "    <tr>\n",
       "      <th>7</th>\n",
       "      <td>Dramas, International Movies, Romantic Movies</td>\n",
       "      <td>148</td>\n",
       "    </tr>\n",
       "    <tr>\n",
       "      <th>8</th>\n",
       "      <td>Comedies, International Movies, Romantic Movies</td>\n",
       "      <td>138</td>\n",
       "    </tr>\n",
       "    <tr>\n",
       "      <th>9</th>\n",
       "      <td>Dramas, International Movies, Thrillers</td>\n",
       "      <td>124</td>\n",
       "    </tr>\n",
       "  </tbody>\n",
       "</table>\n",
       "</div>"
      ],
      "text/plain": [
       "                                        Genres_name  Genres_value\n",
       "0                      Dramas, International Movies           321\n",
       "1                                   Stand-Up Comedy           273\n",
       "2            Comedies, Dramas, International Movies           243\n",
       "3  Dramas, Independent Movies, International Movies           235\n",
       "4                Children & Family Movies, Comedies           169\n",
       "5                                     Documentaries           154\n",
       "6                    Comedies, International Movies           149\n",
       "7     Dramas, International Movies, Romantic Movies           148\n",
       "8   Comedies, International Movies, Romantic Movies           138\n",
       "9           Dramas, International Movies, Thrillers           124"
      ]
     },
     "execution_count": 137,
     "metadata": {},
     "output_type": "execute_result"
    }
   ],
   "source": [
    "Genres_df"
   ]
  },
  {
   "cell_type": "code",
   "execution_count": 138,
   "id": "4450d8e8",
   "metadata": {},
   "outputs": [],
   "source": [
    "final_df = {'Genres':[],'year':[],'frrequency':[]}"
   ]
  },
  {
   "cell_type": "code",
   "execution_count": 140,
   "id": "dae0596f",
   "metadata": {},
   "outputs": [
    {
     "data": {
      "text/plain": [
       "{'Genres': [], 'year': [], 'frrequency': []}"
      ]
     },
     "execution_count": 140,
     "metadata": {},
     "output_type": "execute_result"
    }
   ],
   "source": [
    "final_df"
   ]
  },
  {
   "cell_type": "code",
   "execution_count": 141,
   "id": "dfb46d7c",
   "metadata": {},
   "outputs": [],
   "source": [
    "for j in range(0,len(Genres_df)):\n",
    "\n",
    "    for i in range(2000,2022):\n",
    "        t_df = asbl_updated_1.drop(asbl_updated_1[asbl_updated_1['Release_year'] != i].index).reset_index()\n",
    "        final_df['Genres'].append(Genres_df['Genres_name'][j])\n",
    "        final_df['year'].append(i)\n",
    "        year = 0\n",
    "        for k in range(0,len(t_df)):\n",
    "            if(Genres_df['Genres_name'][j] == t_df['Genres'][k]):\n",
    "                year = year+1\n",
    "        final_df['frrequency'].append(year)"
   ]
  },
  {
   "cell_type": "code",
   "execution_count": 142,
   "id": "8a9f66cc",
   "metadata": {},
   "outputs": [
    {
     "data": {
      "text/plain": [
       "220"
      ]
     },
     "execution_count": 142,
     "metadata": {},
     "output_type": "execute_result"
    }
   ],
   "source": [
    "len(final_df['Genres'])"
   ]
  },
  {
   "cell_type": "code",
   "execution_count": 143,
   "id": "cbbf4bba",
   "metadata": {},
   "outputs": [
    {
     "data": {
      "text/plain": [
       "220"
      ]
     },
     "execution_count": 143,
     "metadata": {},
     "output_type": "execute_result"
    }
   ],
   "source": [
    "len(final_df['year'])"
   ]
  },
  {
   "cell_type": "code",
   "execution_count": 144,
   "id": "eb236434",
   "metadata": {},
   "outputs": [
    {
     "data": {
      "text/plain": [
       "220"
      ]
     },
     "execution_count": 144,
     "metadata": {},
     "output_type": "execute_result"
    }
   ],
   "source": [
    "len(final_df['frrequency'])"
   ]
  },
  {
   "cell_type": "code",
   "execution_count": 147,
   "id": "905b5b76",
   "metadata": {},
   "outputs": [
    {
     "data": {
      "text/plain": [
       "{'Genres': ['Dramas, International Movies',\n",
       "  'Dramas, International Movies',\n",
       "  'Dramas, International Movies',\n",
       "  'Dramas, International Movies',\n",
       "  'Dramas, International Movies',\n",
       "  'Dramas, International Movies',\n",
       "  'Dramas, International Movies',\n",
       "  'Dramas, International Movies',\n",
       "  'Dramas, International Movies',\n",
       "  'Dramas, International Movies',\n",
       "  'Dramas, International Movies',\n",
       "  'Dramas, International Movies',\n",
       "  'Dramas, International Movies',\n",
       "  'Dramas, International Movies',\n",
       "  'Dramas, International Movies',\n",
       "  'Dramas, International Movies',\n",
       "  'Dramas, International Movies',\n",
       "  'Dramas, International Movies',\n",
       "  'Dramas, International Movies',\n",
       "  'Dramas, International Movies',\n",
       "  'Dramas, International Movies',\n",
       "  'Dramas, International Movies',\n",
       "  'Stand-Up Comedy',\n",
       "  'Stand-Up Comedy',\n",
       "  'Stand-Up Comedy',\n",
       "  'Stand-Up Comedy',\n",
       "  'Stand-Up Comedy',\n",
       "  'Stand-Up Comedy',\n",
       "  'Stand-Up Comedy',\n",
       "  'Stand-Up Comedy',\n",
       "  'Stand-Up Comedy',\n",
       "  'Stand-Up Comedy',\n",
       "  'Stand-Up Comedy',\n",
       "  'Stand-Up Comedy',\n",
       "  'Stand-Up Comedy',\n",
       "  'Stand-Up Comedy',\n",
       "  'Stand-Up Comedy',\n",
       "  'Stand-Up Comedy',\n",
       "  'Stand-Up Comedy',\n",
       "  'Stand-Up Comedy',\n",
       "  'Stand-Up Comedy',\n",
       "  'Stand-Up Comedy',\n",
       "  'Stand-Up Comedy',\n",
       "  'Stand-Up Comedy',\n",
       "  'Comedies, Dramas, International Movies',\n",
       "  'Comedies, Dramas, International Movies',\n",
       "  'Comedies, Dramas, International Movies',\n",
       "  'Comedies, Dramas, International Movies',\n",
       "  'Comedies, Dramas, International Movies',\n",
       "  'Comedies, Dramas, International Movies',\n",
       "  'Comedies, Dramas, International Movies',\n",
       "  'Comedies, Dramas, International Movies',\n",
       "  'Comedies, Dramas, International Movies',\n",
       "  'Comedies, Dramas, International Movies',\n",
       "  'Comedies, Dramas, International Movies',\n",
       "  'Comedies, Dramas, International Movies',\n",
       "  'Comedies, Dramas, International Movies',\n",
       "  'Comedies, Dramas, International Movies',\n",
       "  'Comedies, Dramas, International Movies',\n",
       "  'Comedies, Dramas, International Movies',\n",
       "  'Comedies, Dramas, International Movies',\n",
       "  'Comedies, Dramas, International Movies',\n",
       "  'Comedies, Dramas, International Movies',\n",
       "  'Comedies, Dramas, International Movies',\n",
       "  'Comedies, Dramas, International Movies',\n",
       "  'Comedies, Dramas, International Movies',\n",
       "  'Dramas, Independent Movies, International Movies',\n",
       "  'Dramas, Independent Movies, International Movies',\n",
       "  'Dramas, Independent Movies, International Movies',\n",
       "  'Dramas, Independent Movies, International Movies',\n",
       "  'Dramas, Independent Movies, International Movies',\n",
       "  'Dramas, Independent Movies, International Movies',\n",
       "  'Dramas, Independent Movies, International Movies',\n",
       "  'Dramas, Independent Movies, International Movies',\n",
       "  'Dramas, Independent Movies, International Movies',\n",
       "  'Dramas, Independent Movies, International Movies',\n",
       "  'Dramas, Independent Movies, International Movies',\n",
       "  'Dramas, Independent Movies, International Movies',\n",
       "  'Dramas, Independent Movies, International Movies',\n",
       "  'Dramas, Independent Movies, International Movies',\n",
       "  'Dramas, Independent Movies, International Movies',\n",
       "  'Dramas, Independent Movies, International Movies',\n",
       "  'Dramas, Independent Movies, International Movies',\n",
       "  'Dramas, Independent Movies, International Movies',\n",
       "  'Dramas, Independent Movies, International Movies',\n",
       "  'Dramas, Independent Movies, International Movies',\n",
       "  'Dramas, Independent Movies, International Movies',\n",
       "  'Dramas, Independent Movies, International Movies',\n",
       "  'Children & Family Movies, Comedies',\n",
       "  'Children & Family Movies, Comedies',\n",
       "  'Children & Family Movies, Comedies',\n",
       "  'Children & Family Movies, Comedies',\n",
       "  'Children & Family Movies, Comedies',\n",
       "  'Children & Family Movies, Comedies',\n",
       "  'Children & Family Movies, Comedies',\n",
       "  'Children & Family Movies, Comedies',\n",
       "  'Children & Family Movies, Comedies',\n",
       "  'Children & Family Movies, Comedies',\n",
       "  'Children & Family Movies, Comedies',\n",
       "  'Children & Family Movies, Comedies',\n",
       "  'Children & Family Movies, Comedies',\n",
       "  'Children & Family Movies, Comedies',\n",
       "  'Children & Family Movies, Comedies',\n",
       "  'Children & Family Movies, Comedies',\n",
       "  'Children & Family Movies, Comedies',\n",
       "  'Children & Family Movies, Comedies',\n",
       "  'Children & Family Movies, Comedies',\n",
       "  'Children & Family Movies, Comedies',\n",
       "  'Children & Family Movies, Comedies',\n",
       "  'Children & Family Movies, Comedies',\n",
       "  'Documentaries',\n",
       "  'Documentaries',\n",
       "  'Documentaries',\n",
       "  'Documentaries',\n",
       "  'Documentaries',\n",
       "  'Documentaries',\n",
       "  'Documentaries',\n",
       "  'Documentaries',\n",
       "  'Documentaries',\n",
       "  'Documentaries',\n",
       "  'Documentaries',\n",
       "  'Documentaries',\n",
       "  'Documentaries',\n",
       "  'Documentaries',\n",
       "  'Documentaries',\n",
       "  'Documentaries',\n",
       "  'Documentaries',\n",
       "  'Documentaries',\n",
       "  'Documentaries',\n",
       "  'Documentaries',\n",
       "  'Documentaries',\n",
       "  'Documentaries',\n",
       "  'Comedies, International Movies',\n",
       "  'Comedies, International Movies',\n",
       "  'Comedies, International Movies',\n",
       "  'Comedies, International Movies',\n",
       "  'Comedies, International Movies',\n",
       "  'Comedies, International Movies',\n",
       "  'Comedies, International Movies',\n",
       "  'Comedies, International Movies',\n",
       "  'Comedies, International Movies',\n",
       "  'Comedies, International Movies',\n",
       "  'Comedies, International Movies',\n",
       "  'Comedies, International Movies',\n",
       "  'Comedies, International Movies',\n",
       "  'Comedies, International Movies',\n",
       "  'Comedies, International Movies',\n",
       "  'Comedies, International Movies',\n",
       "  'Comedies, International Movies',\n",
       "  'Comedies, International Movies',\n",
       "  'Comedies, International Movies',\n",
       "  'Comedies, International Movies',\n",
       "  'Comedies, International Movies',\n",
       "  'Comedies, International Movies',\n",
       "  'Dramas, International Movies, Romantic Movies',\n",
       "  'Dramas, International Movies, Romantic Movies',\n",
       "  'Dramas, International Movies, Romantic Movies',\n",
       "  'Dramas, International Movies, Romantic Movies',\n",
       "  'Dramas, International Movies, Romantic Movies',\n",
       "  'Dramas, International Movies, Romantic Movies',\n",
       "  'Dramas, International Movies, Romantic Movies',\n",
       "  'Dramas, International Movies, Romantic Movies',\n",
       "  'Dramas, International Movies, Romantic Movies',\n",
       "  'Dramas, International Movies, Romantic Movies',\n",
       "  'Dramas, International Movies, Romantic Movies',\n",
       "  'Dramas, International Movies, Romantic Movies',\n",
       "  'Dramas, International Movies, Romantic Movies',\n",
       "  'Dramas, International Movies, Romantic Movies',\n",
       "  'Dramas, International Movies, Romantic Movies',\n",
       "  'Dramas, International Movies, Romantic Movies',\n",
       "  'Dramas, International Movies, Romantic Movies',\n",
       "  'Dramas, International Movies, Romantic Movies',\n",
       "  'Dramas, International Movies, Romantic Movies',\n",
       "  'Dramas, International Movies, Romantic Movies',\n",
       "  'Dramas, International Movies, Romantic Movies',\n",
       "  'Dramas, International Movies, Romantic Movies',\n",
       "  'Comedies, International Movies, Romantic Movies',\n",
       "  'Comedies, International Movies, Romantic Movies',\n",
       "  'Comedies, International Movies, Romantic Movies',\n",
       "  'Comedies, International Movies, Romantic Movies',\n",
       "  'Comedies, International Movies, Romantic Movies',\n",
       "  'Comedies, International Movies, Romantic Movies',\n",
       "  'Comedies, International Movies, Romantic Movies',\n",
       "  'Comedies, International Movies, Romantic Movies',\n",
       "  'Comedies, International Movies, Romantic Movies',\n",
       "  'Comedies, International Movies, Romantic Movies',\n",
       "  'Comedies, International Movies, Romantic Movies',\n",
       "  'Comedies, International Movies, Romantic Movies',\n",
       "  'Comedies, International Movies, Romantic Movies',\n",
       "  'Comedies, International Movies, Romantic Movies',\n",
       "  'Comedies, International Movies, Romantic Movies',\n",
       "  'Comedies, International Movies, Romantic Movies',\n",
       "  'Comedies, International Movies, Romantic Movies',\n",
       "  'Comedies, International Movies, Romantic Movies',\n",
       "  'Comedies, International Movies, Romantic Movies',\n",
       "  'Comedies, International Movies, Romantic Movies',\n",
       "  'Comedies, International Movies, Romantic Movies',\n",
       "  'Comedies, International Movies, Romantic Movies',\n",
       "  'Dramas, International Movies, Thrillers',\n",
       "  'Dramas, International Movies, Thrillers',\n",
       "  'Dramas, International Movies, Thrillers',\n",
       "  'Dramas, International Movies, Thrillers',\n",
       "  'Dramas, International Movies, Thrillers',\n",
       "  'Dramas, International Movies, Thrillers',\n",
       "  'Dramas, International Movies, Thrillers',\n",
       "  'Dramas, International Movies, Thrillers',\n",
       "  'Dramas, International Movies, Thrillers',\n",
       "  'Dramas, International Movies, Thrillers',\n",
       "  'Dramas, International Movies, Thrillers',\n",
       "  'Dramas, International Movies, Thrillers',\n",
       "  'Dramas, International Movies, Thrillers',\n",
       "  'Dramas, International Movies, Thrillers',\n",
       "  'Dramas, International Movies, Thrillers',\n",
       "  'Dramas, International Movies, Thrillers',\n",
       "  'Dramas, International Movies, Thrillers',\n",
       "  'Dramas, International Movies, Thrillers',\n",
       "  'Dramas, International Movies, Thrillers',\n",
       "  'Dramas, International Movies, Thrillers',\n",
       "  'Dramas, International Movies, Thrillers',\n",
       "  'Dramas, International Movies, Thrillers'],\n",
       " 'year': [2000,\n",
       "  2001,\n",
       "  2002,\n",
       "  2003,\n",
       "  2004,\n",
       "  2005,\n",
       "  2006,\n",
       "  2007,\n",
       "  2008,\n",
       "  2009,\n",
       "  2010,\n",
       "  2011,\n",
       "  2012,\n",
       "  2013,\n",
       "  2014,\n",
       "  2015,\n",
       "  2016,\n",
       "  2017,\n",
       "  2018,\n",
       "  2019,\n",
       "  2020,\n",
       "  2021,\n",
       "  2000,\n",
       "  2001,\n",
       "  2002,\n",
       "  2003,\n",
       "  2004,\n",
       "  2005,\n",
       "  2006,\n",
       "  2007,\n",
       "  2008,\n",
       "  2009,\n",
       "  2010,\n",
       "  2011,\n",
       "  2012,\n",
       "  2013,\n",
       "  2014,\n",
       "  2015,\n",
       "  2016,\n",
       "  2017,\n",
       "  2018,\n",
       "  2019,\n",
       "  2020,\n",
       "  2021,\n",
       "  2000,\n",
       "  2001,\n",
       "  2002,\n",
       "  2003,\n",
       "  2004,\n",
       "  2005,\n",
       "  2006,\n",
       "  2007,\n",
       "  2008,\n",
       "  2009,\n",
       "  2010,\n",
       "  2011,\n",
       "  2012,\n",
       "  2013,\n",
       "  2014,\n",
       "  2015,\n",
       "  2016,\n",
       "  2017,\n",
       "  2018,\n",
       "  2019,\n",
       "  2020,\n",
       "  2021,\n",
       "  2000,\n",
       "  2001,\n",
       "  2002,\n",
       "  2003,\n",
       "  2004,\n",
       "  2005,\n",
       "  2006,\n",
       "  2007,\n",
       "  2008,\n",
       "  2009,\n",
       "  2010,\n",
       "  2011,\n",
       "  2012,\n",
       "  2013,\n",
       "  2014,\n",
       "  2015,\n",
       "  2016,\n",
       "  2017,\n",
       "  2018,\n",
       "  2019,\n",
       "  2020,\n",
       "  2021,\n",
       "  2000,\n",
       "  2001,\n",
       "  2002,\n",
       "  2003,\n",
       "  2004,\n",
       "  2005,\n",
       "  2006,\n",
       "  2007,\n",
       "  2008,\n",
       "  2009,\n",
       "  2010,\n",
       "  2011,\n",
       "  2012,\n",
       "  2013,\n",
       "  2014,\n",
       "  2015,\n",
       "  2016,\n",
       "  2017,\n",
       "  2018,\n",
       "  2019,\n",
       "  2020,\n",
       "  2021,\n",
       "  2000,\n",
       "  2001,\n",
       "  2002,\n",
       "  2003,\n",
       "  2004,\n",
       "  2005,\n",
       "  2006,\n",
       "  2007,\n",
       "  2008,\n",
       "  2009,\n",
       "  2010,\n",
       "  2011,\n",
       "  2012,\n",
       "  2013,\n",
       "  2014,\n",
       "  2015,\n",
       "  2016,\n",
       "  2017,\n",
       "  2018,\n",
       "  2019,\n",
       "  2020,\n",
       "  2021,\n",
       "  2000,\n",
       "  2001,\n",
       "  2002,\n",
       "  2003,\n",
       "  2004,\n",
       "  2005,\n",
       "  2006,\n",
       "  2007,\n",
       "  2008,\n",
       "  2009,\n",
       "  2010,\n",
       "  2011,\n",
       "  2012,\n",
       "  2013,\n",
       "  2014,\n",
       "  2015,\n",
       "  2016,\n",
       "  2017,\n",
       "  2018,\n",
       "  2019,\n",
       "  2020,\n",
       "  2021,\n",
       "  2000,\n",
       "  2001,\n",
       "  2002,\n",
       "  2003,\n",
       "  2004,\n",
       "  2005,\n",
       "  2006,\n",
       "  2007,\n",
       "  2008,\n",
       "  2009,\n",
       "  2010,\n",
       "  2011,\n",
       "  2012,\n",
       "  2013,\n",
       "  2014,\n",
       "  2015,\n",
       "  2016,\n",
       "  2017,\n",
       "  2018,\n",
       "  2019,\n",
       "  2020,\n",
       "  2021,\n",
       "  2000,\n",
       "  2001,\n",
       "  2002,\n",
       "  2003,\n",
       "  2004,\n",
       "  2005,\n",
       "  2006,\n",
       "  2007,\n",
       "  2008,\n",
       "  2009,\n",
       "  2010,\n",
       "  2011,\n",
       "  2012,\n",
       "  2013,\n",
       "  2014,\n",
       "  2015,\n",
       "  2016,\n",
       "  2017,\n",
       "  2018,\n",
       "  2019,\n",
       "  2020,\n",
       "  2021,\n",
       "  2000,\n",
       "  2001,\n",
       "  2002,\n",
       "  2003,\n",
       "  2004,\n",
       "  2005,\n",
       "  2006,\n",
       "  2007,\n",
       "  2008,\n",
       "  2009,\n",
       "  2010,\n",
       "  2011,\n",
       "  2012,\n",
       "  2013,\n",
       "  2014,\n",
       "  2015,\n",
       "  2016,\n",
       "  2017,\n",
       "  2018,\n",
       "  2019,\n",
       "  2020,\n",
       "  2021],\n",
       " 'frrequency': [0,\n",
       "  1,\n",
       "  4,\n",
       "  1,\n",
       "  6,\n",
       "  6,\n",
       "  3,\n",
       "  3,\n",
       "  9,\n",
       "  8,\n",
       "  16,\n",
       "  9,\n",
       "  9,\n",
       "  10,\n",
       "  14,\n",
       "  26,\n",
       "  46,\n",
       "  42,\n",
       "  33,\n",
       "  32,\n",
       "  34,\n",
       "  9,\n",
       "  1,\n",
       "  1,\n",
       "  1,\n",
       "  0,\n",
       "  0,\n",
       "  1,\n",
       "  4,\n",
       "  1,\n",
       "  1,\n",
       "  2,\n",
       "  3,\n",
       "  5,\n",
       "  12,\n",
       "  8,\n",
       "  10,\n",
       "  15,\n",
       "  25,\n",
       "  52,\n",
       "  46,\n",
       "  40,\n",
       "  36,\n",
       "  9,\n",
       "  2,\n",
       "  4,\n",
       "  1,\n",
       "  3,\n",
       "  3,\n",
       "  3,\n",
       "  10,\n",
       "  4,\n",
       "  7,\n",
       "  3,\n",
       "  9,\n",
       "  7,\n",
       "  8,\n",
       "  11,\n",
       "  16,\n",
       "  17,\n",
       "  24,\n",
       "  27,\n",
       "  33,\n",
       "  26,\n",
       "  16,\n",
       "  9,\n",
       "  1,\n",
       "  1,\n",
       "  3,\n",
       "  0,\n",
       "  1,\n",
       "  1,\n",
       "  2,\n",
       "  3,\n",
       "  3,\n",
       "  2,\n",
       "  5,\n",
       "  3,\n",
       "  7,\n",
       "  13,\n",
       "  9,\n",
       "  20,\n",
       "  28,\n",
       "  38,\n",
       "  50,\n",
       "  24,\n",
       "  13,\n",
       "  8,\n",
       "  3,\n",
       "  1,\n",
       "  3,\n",
       "  5,\n",
       "  3,\n",
       "  3,\n",
       "  5,\n",
       "  5,\n",
       "  8,\n",
       "  4,\n",
       "  6,\n",
       "  10,\n",
       "  7,\n",
       "  6,\n",
       "  11,\n",
       "  4,\n",
       "  17,\n",
       "  11,\n",
       "  14,\n",
       "  16,\n",
       "  20,\n",
       "  7,\n",
       "  0,\n",
       "  0,\n",
       "  1,\n",
       "  0,\n",
       "  0,\n",
       "  1,\n",
       "  1,\n",
       "  1,\n",
       "  2,\n",
       "  1,\n",
       "  0,\n",
       "  2,\n",
       "  1,\n",
       "  6,\n",
       "  7,\n",
       "  15,\n",
       "  30,\n",
       "  44,\n",
       "  21,\n",
       "  8,\n",
       "  7,\n",
       "  6,\n",
       "  0,\n",
       "  0,\n",
       "  0,\n",
       "  0,\n",
       "  1,\n",
       "  1,\n",
       "  5,\n",
       "  2,\n",
       "  6,\n",
       "  4,\n",
       "  3,\n",
       "  1,\n",
       "  5,\n",
       "  13,\n",
       "  5,\n",
       "  13,\n",
       "  21,\n",
       "  20,\n",
       "  21,\n",
       "  15,\n",
       "  9,\n",
       "  4,\n",
       "  1,\n",
       "  1,\n",
       "  1,\n",
       "  3,\n",
       "  0,\n",
       "  4,\n",
       "  4,\n",
       "  1,\n",
       "  1,\n",
       "  3,\n",
       "  2,\n",
       "  5,\n",
       "  5,\n",
       "  6,\n",
       "  8,\n",
       "  12,\n",
       "  17,\n",
       "  18,\n",
       "  14,\n",
       "  20,\n",
       "  17,\n",
       "  5,\n",
       "  1,\n",
       "  0,\n",
       "  0,\n",
       "  1,\n",
       "  1,\n",
       "  3,\n",
       "  3,\n",
       "  1,\n",
       "  1,\n",
       "  5,\n",
       "  3,\n",
       "  6,\n",
       "  7,\n",
       "  3,\n",
       "  13,\n",
       "  14,\n",
       "  7,\n",
       "  20,\n",
       "  14,\n",
       "  13,\n",
       "  16,\n",
       "  6,\n",
       "  0,\n",
       "  0,\n",
       "  1,\n",
       "  1,\n",
       "  1,\n",
       "  0,\n",
       "  2,\n",
       "  2,\n",
       "  1,\n",
       "  0,\n",
       "  3,\n",
       "  1,\n",
       "  2,\n",
       "  4,\n",
       "  8,\n",
       "  10,\n",
       "  19,\n",
       "  13,\n",
       "  21,\n",
       "  14,\n",
       "  13,\n",
       "  8]}"
      ]
     },
     "execution_count": 147,
     "metadata": {},
     "output_type": "execute_result"
    }
   ],
   "source": [
    "final_df "
   ]
  },
  {
   "cell_type": "code",
   "execution_count": 148,
   "id": "5c3569bf",
   "metadata": {},
   "outputs": [],
   "source": [
    "final_df = pd.DataFrame(final_df) "
   ]
  },
  {
   "cell_type": "code",
   "execution_count": 149,
   "id": "6210c5f5",
   "metadata": {},
   "outputs": [
    {
     "data": {
      "text/html": [
       "<div>\n",
       "<style scoped>\n",
       "    .dataframe tbody tr th:only-of-type {\n",
       "        vertical-align: middle;\n",
       "    }\n",
       "\n",
       "    .dataframe tbody tr th {\n",
       "        vertical-align: top;\n",
       "    }\n",
       "\n",
       "    .dataframe thead th {\n",
       "        text-align: right;\n",
       "    }\n",
       "</style>\n",
       "<table border=\"1\" class=\"dataframe\">\n",
       "  <thead>\n",
       "    <tr style=\"text-align: right;\">\n",
       "      <th></th>\n",
       "      <th>Genres</th>\n",
       "      <th>year</th>\n",
       "      <th>frrequency</th>\n",
       "    </tr>\n",
       "  </thead>\n",
       "  <tbody>\n",
       "    <tr>\n",
       "      <th>0</th>\n",
       "      <td>Dramas, International Movies</td>\n",
       "      <td>2000</td>\n",
       "      <td>0</td>\n",
       "    </tr>\n",
       "    <tr>\n",
       "      <th>1</th>\n",
       "      <td>Dramas, International Movies</td>\n",
       "      <td>2001</td>\n",
       "      <td>1</td>\n",
       "    </tr>\n",
       "    <tr>\n",
       "      <th>2</th>\n",
       "      <td>Dramas, International Movies</td>\n",
       "      <td>2002</td>\n",
       "      <td>4</td>\n",
       "    </tr>\n",
       "    <tr>\n",
       "      <th>3</th>\n",
       "      <td>Dramas, International Movies</td>\n",
       "      <td>2003</td>\n",
       "      <td>1</td>\n",
       "    </tr>\n",
       "    <tr>\n",
       "      <th>4</th>\n",
       "      <td>Dramas, International Movies</td>\n",
       "      <td>2004</td>\n",
       "      <td>6</td>\n",
       "    </tr>\n",
       "    <tr>\n",
       "      <th>...</th>\n",
       "      <td>...</td>\n",
       "      <td>...</td>\n",
       "      <td>...</td>\n",
       "    </tr>\n",
       "    <tr>\n",
       "      <th>215</th>\n",
       "      <td>Dramas, International Movies, Thrillers</td>\n",
       "      <td>2017</td>\n",
       "      <td>13</td>\n",
       "    </tr>\n",
       "    <tr>\n",
       "      <th>216</th>\n",
       "      <td>Dramas, International Movies, Thrillers</td>\n",
       "      <td>2018</td>\n",
       "      <td>21</td>\n",
       "    </tr>\n",
       "    <tr>\n",
       "      <th>217</th>\n",
       "      <td>Dramas, International Movies, Thrillers</td>\n",
       "      <td>2019</td>\n",
       "      <td>14</td>\n",
       "    </tr>\n",
       "    <tr>\n",
       "      <th>218</th>\n",
       "      <td>Dramas, International Movies, Thrillers</td>\n",
       "      <td>2020</td>\n",
       "      <td>13</td>\n",
       "    </tr>\n",
       "    <tr>\n",
       "      <th>219</th>\n",
       "      <td>Dramas, International Movies, Thrillers</td>\n",
       "      <td>2021</td>\n",
       "      <td>8</td>\n",
       "    </tr>\n",
       "  </tbody>\n",
       "</table>\n",
       "<p>220 rows × 3 columns</p>\n",
       "</div>"
      ],
      "text/plain": [
       "                                      Genres  year  frrequency\n",
       "0               Dramas, International Movies  2000           0\n",
       "1               Dramas, International Movies  2001           1\n",
       "2               Dramas, International Movies  2002           4\n",
       "3               Dramas, International Movies  2003           1\n",
       "4               Dramas, International Movies  2004           6\n",
       "..                                       ...   ...         ...\n",
       "215  Dramas, International Movies, Thrillers  2017          13\n",
       "216  Dramas, International Movies, Thrillers  2018          21\n",
       "217  Dramas, International Movies, Thrillers  2019          14\n",
       "218  Dramas, International Movies, Thrillers  2020          13\n",
       "219  Dramas, International Movies, Thrillers  2021           8\n",
       "\n",
       "[220 rows x 3 columns]"
      ]
     },
     "execution_count": 149,
     "metadata": {},
     "output_type": "execute_result"
    }
   ],
   "source": [
    "final_df"
   ]
  },
  {
   "cell_type": "code",
   "execution_count": 150,
   "id": "f0fd473e",
   "metadata": {},
   "outputs": [
    {
     "data": {
      "text/plain": [
       "Text(0, 0.5, 'number of Content released')"
      ]
     },
     "execution_count": 150,
     "metadata": {},
     "output_type": "execute_result"
    },
    {
     "data": {
      "image/png": "[encoded data removed]",
      "text/plain": [
       "<Figure size 432x288 with 1 Axes>"
      ]
     },
     "metadata": {
      "needs_background": "light"
     },
     "output_type": "display_data"
    }
   ],
   "source": [
    "temp_df = final_df.drop(final_df[final_df['Genres'] != 'Dramas, International Movies'].index).reset_index()\n",
    "temp_df['Date']=pd.to_datetime(temp_df['year'])\n",
    "temp_1=temp_df.drop(['index','Genres','year'],axis = 1)\n",
    "plt.plot(temp_1)\n",
    "plt.title('Dramas, International Movies')\n",
    "plt.xlabel(\"year\")\n",
    "plt.ylabel(\"number of Content released\")"
   ]
  },
  {
   "cell_type": "code",
   "execution_count": 151,
   "id": "df1df339",
   "metadata": {},
   "outputs": [
    {
     "data": {
      "text/plain": [
       "Text(0, 0.5, 'number of Content released')"
      ]
     },
     "execution_count": 151,
     "metadata": {},
     "output_type": "execute_result"
    },
    {
     "data": {
      "image/png": "[encoded data removed]",
      "text/plain": [
       "<Figure size 432x288 with 1 Axes>"
      ]
     },
     "metadata": {
      "needs_background": "light"
     },
     "output_type": "display_data"
    }
   ],
   "source": [
    "temp_df = final_df.drop(final_df[final_df['Genres'] != 'Stand-Up Comedy'].index).reset_index()\n",
    "temp_df['Date']=pd.to_datetime(temp_df['year'])\n",
    "temp_1=temp_df.drop(['index','Genres','year'],axis = 1)\n",
    "plt.plot(temp_1)\n",
    "plt.title('Stand-Up Comedy')\n",
    "plt.xlabel(\"year\")\n",
    "plt.ylabel(\"number of Content released\")"
   ]
  },
  {
   "cell_type": "code",
   "execution_count": 152,
   "id": "3180b0f9",
   "metadata": {},
   "outputs": [
    {
     "data": {
      "text/plain": [
       "Text(0, 0.5, 'number of Content released')"
      ]
     },
     "execution_count": 152,
     "metadata": {},
     "output_type": "execute_result"
    },
    {
     "data": {
      "image/png": "[encoded data removed]",
      "text/plain": [
       "<Figure size 432x288 with 1 Axes>"
      ]
     },
     "metadata": {
      "needs_background": "light"
     },
     "output_type": "display_data"
    }
   ],
   "source": [
    "temp_df = final_df.drop(final_df[final_df['Genres'] != 'Comedies, Dramas, International Movies'].index).reset_index()\n",
    "temp_df['Date']=pd.to_datetime(temp_df['year'])\n",
    "temp_1=temp_df.drop(['index','Genres','year'],axis = 1)\n",
    "plt.plot(temp_1)\n",
    "plt.title('Comedies, Dramas, International Movies')\n",
    "plt.xlabel(\"year\")\n",
    "plt.ylabel(\"number of Content released\")"
   ]
  },
  {
   "cell_type": "code",
   "execution_count": 153,
   "id": "a02158e9",
   "metadata": {},
   "outputs": [
    {
     "data": {
      "text/plain": [
       "Text(0, 0.5, 'number of Content released')"
      ]
     },
     "execution_count": 153,
     "metadata": {},
     "output_type": "execute_result"
    },
    {
     "data": {
      "image/png": "[encoded data removed]",
      "text/plain": [
       "<Figure size 432x288 with 1 Axes>"
      ]
     },
     "metadata": {
      "needs_background": "light"
     },
     "output_type": "display_data"
    }
   ],
   "source": [
    "temp_df = final_df.drop(final_df[final_df['Genres'] != 'Dramas, Independent Movies, International Movies'].index).reset_index()\n",
    "temp_df['Date']=pd.to_datetime(temp_df['year'])\n",
    "temp_1=temp_df.drop(['index','Genres','year'],axis = 1)\n",
    "plt.plot(temp_1)\n",
    "plt.title('Dramas, Independent Movies, International Movies')\n",
    "plt.xlabel(\"year\")\n",
    "plt.ylabel(\"number of Content released\")"
   ]
  },
  {
   "cell_type": "code",
   "execution_count": 154,
   "id": "764002c8",
   "metadata": {},
   "outputs": [
    {
     "data": {
      "text/plain": [
       "Text(0, 0.5, 'number of Content released')"
      ]
     },
     "execution_count": 154,
     "metadata": {},
     "output_type": "execute_result"
    },
    {
     "data": {
      "image/png": "[encoded data removed]",
      "text/plain": [
       "<Figure size 432x288 with 1 Axes>"
      ]
     },
     "metadata": {
      "needs_background": "light"
     },
     "output_type": "display_data"
    }
   ],
   "source": [
    "temp_df = final_df.drop(final_df[final_df['Genres'] != 'Children & Family Movies, Comedies'].index).reset_index()\n",
    "temp_df['Date']=pd.to_datetime(temp_df['year'])\n",
    "temp_1=temp_df.drop(['index','Genres','year'],axis = 1)\n",
    "plt.plot(temp_1)\n",
    "plt.title('Children & Family Movies, Comedies')\n",
    "plt.xlabel(\"year\")\n",
    "plt.ylabel(\"number of Content released\")"
   ]
  },
  {
   "cell_type": "code",
   "execution_count": 155,
   "id": "565eadf9",
   "metadata": {},
   "outputs": [
    {
     "data": {
      "text/plain": [
       "Text(0, 0.5, 'number of Content released')"
      ]
     },
     "execution_count": 155,
     "metadata": {},
     "output_type": "execute_result"
    },
    {
     "data": {
      "image/png": "[encoded data removed]",
      "text/plain": [
       "<Figure size 432x288 with 1 Axes>"
      ]
     },
     "metadata": {
      "needs_background": "light"
     },
     "output_type": "display_data"
    }
   ],
   "source": [
    "temp_df = final_df.drop(final_df[final_df['Genres'] != 'Documentaries'].index).reset_index()\n",
    "temp_df['Date']=pd.to_datetime(temp_df['year'])\n",
    "temp_1=temp_df.drop(['index','Genres','year'],axis = 1)\n",
    "plt.plot(temp_1)\n",
    "plt.title('Documentaries')\n",
    "plt.xlabel(\"year\")\n",
    "plt.ylabel(\"number of Content released\")"
   ]
  },
  {
   "cell_type": "code",
   "execution_count": 156,
   "id": "f3fa6422",
   "metadata": {},
   "outputs": [
    {
     "data": {
      "text/plain": [
       "Text(0, 0.5, 'number of Content released')"
      ]
     },
     "execution_count": 156,
     "metadata": {},
     "output_type": "execute_result"
    },
    {
     "data": {
      "image/png": "[encoded data removed]",
      "text/plain": [
       "<Figure size 432x288 with 1 Axes>"
      ]
     },
     "metadata": {
      "needs_background": "light"
     },
     "output_type": "display_data"
    }
   ],
   "source": [
    "temp_df = final_df.drop(final_df[final_df['Genres'] != 'Comedies, International Movies'].index).reset_index()\n",
    "temp_df['Date']=pd.to_datetime(temp_df['year'])\n",
    "temp_1=temp_df.drop(['index','Genres','year'],axis = 1)\n",
    "plt.plot(temp_1)\n",
    "plt.title('Comedies, International Movies')\n",
    "plt.xlabel(\"year\")\n",
    "plt.ylabel(\"number of Content released\")"
   ]
  },
  {
   "cell_type": "code",
   "execution_count": 157,
   "id": "063245ec",
   "metadata": {},
   "outputs": [
    {
     "data": {
      "text/plain": [
       "Text(0, 0.5, 'number of Content released')"
      ]
     },
     "execution_count": 157,
     "metadata": {},
     "output_type": "execute_result"
    },
    {
     "data": {
      "image/png": "[encoded data removed]",
      "text/plain": [
       "<Figure size 432x288 with 1 Axes>"
      ]
     },
     "metadata": {
      "needs_background": "light"
     },
     "output_type": "display_data"
    }
   ],
   "source": [
    "temp_df = final_df.drop(final_df[final_df['Genres'] != 'Dramas, International Movies, Romantic Movies'].index).reset_index()\n",
    "temp_df['Date']=pd.to_datetime(temp_df['year'])\n",
    "temp_1=temp_df.drop(['index','Genres','year'],axis = 1)\n",
    "plt.plot(temp_1)\n",
    "plt.title('Dramas, International Movies, Romantic Movies')\n",
    "plt.xlabel(\"year\")\n",
    "plt.ylabel(\"number of Content released\")"
   ]
  },
  {
   "cell_type": "code",
   "execution_count": 158,
   "id": "3a902558",
   "metadata": {},
   "outputs": [
    {
     "data": {
      "text/plain": [
       "Text(0, 0.5, 'number of Content released')"
      ]
     },
     "execution_count": 158,
     "metadata": {},
     "output_type": "execute_result"
    },
    {
     "data": {
      "image/png": "[encoded data removed]",
      "text/plain": [
       "<Figure size 432x288 with 1 Axes>"
      ]
     },
     "metadata": {
      "needs_background": "light"
     },
     "output_type": "display_data"
    }
   ],
   "source": [
    "temp_df = final_df.drop(final_df[final_df['Genres'] != 'Comedies, International Movies, Romantic Movies'].index).reset_index()\n",
    "temp_df['Date']=pd.to_datetime(temp_df['year'])\n",
    "temp_1=temp_df.drop(['index','Genres','year'],axis = 1)\n",
    "plt.plot(temp_1)\n",
    "plt.title('Comedies, International Movies, Romantic Movies')\n",
    "plt.xlabel(\"year\")\n",
    "plt.ylabel(\"number of Content released\")"
   ]
  },
  {
   "cell_type": "code",
   "execution_count": 159,
   "id": "abf725bc",
   "metadata": {},
   "outputs": [
    {
     "data": {
      "text/plain": [
       "Text(0, 0.5, 'number of Content released')"
      ]
     },
     "execution_count": 159,
     "metadata": {},
     "output_type": "execute_result"
    },
    {
     "data": {
      "image/png": "[encoded data removed]",
      "text/plain": [
       "<Figure size 432x288 with 1 Axes>"
      ]
     },
     "metadata": {
      "needs_background": "light"
     },
     "output_type": "display_data"
    }
   ],
   "source": [
    "temp_df = final_df.drop(final_df[final_df['Genres'] != 'Dramas, International Movies, Thrillers'].index).reset_index()\n",
    "temp_df['Date']=pd.to_datetime(temp_df['year'])\n",
    "temp_1=temp_df.drop(['index','Genres','year'],axis = 1)\n",
    "plt.plot(temp_1)\n",
    "plt.title('Dramas, International Movies, Thrillers')\n",
    "plt.xlabel(\"year\")\n",
    "plt.ylabel(\"number of Content released\")"
   ]
  },
  {
   "cell_type": "code",
   "execution_count": 165,
   "id": "e9e593f7",
   "metadata": {},
   "outputs": [
    {
     "data": {
      "image/png": "[encoded data removed]",
      "text/plain": [
       "<Figure size 432x288 with 1 Axes>"
      ]
     },
     "metadata": {
      "needs_background": "light"
     },
     "output_type": "display_data"
    }
   ],
   "source": [
    "for i in range(0,len(Genres_df)):\n",
    "    temp_df = final_df.drop(final_df[final_df['Genres'] != Genres_df['Genres_name'][i]].index).reset_index()\n",
    "    temp_df['Date']=pd.to_datetime(temp_df['year'])\n",
    "    temp_1=temp_df.drop(['index','Genres','year'],axis = 1)\n",
    "    plt.plot(temp_1)\n",
    "    plt.title('Genres')\n",
    "    plt.xlabel(\"year\")\n",
    "    plt.ylabel(\"number of Content released\")\n",
    "    "
   ]
  },
  {
   "cell_type": "code",
   "execution_count": null,
   "id": "f65db403",
   "metadata": {},
   "outputs": [],
   "source": [
    "#Top 10 Genres and their pattern in last 20 year, shows that Dramas,International Movies,Stand-Up Comedy, are in top treands followed by Documentaries and all."
   ]
  },
  {
   "cell_type": "code",
   "execution_count": 30,
   "id": "bc24c8d5",
   "metadata": {},
   "outputs": [],
   "source": [
    "# question ans"
   ]
  },
  {
   "cell_type": "code",
   "execution_count": 31,
   "id": "362bc7c8",
   "metadata": {},
   "outputs": [],
   "source": [
    "# a "
   ]
  },
  {
   "cell_type": "code",
   "execution_count": 32,
   "id": "704fba50",
   "metadata": {},
   "outputs": [
    {
     "name": "stdout",
     "output_type": "stream",
     "text": [
      "Director\n",
      " Rajiv Chilaka                 19\n",
      "Raúl Campos, Jan Suter        18\n",
      "Suhas Kadav                   16\n",
      "Marcus Raboy                  15\n",
      "Jay Karas                     14\n",
      "                              ..\n",
      "Dennis Rovira van Boekholt     1\n",
      "Naoto Amazutsumi               1\n",
      "Jenny Gage                     1\n",
      "Kaila York                     1\n",
      "Mozez Singh                    1\n",
      "Name: Director, Length: 4354, dtype: int64\n"
     ]
    }
   ],
   "source": [
    "print('Director\\n',asbl_movie.Director.value_counts())"
   ]
  },
  {
   "cell_type": "code",
   "execution_count": 33,
   "id": "0d15d98e",
   "metadata": {},
   "outputs": [],
   "source": [
    "# Rajiv Chilaka,Raúl Campos, Jan Suter,Suhas Kadav,Marcus Raboy are the top 5 directors who produce most of the movies only"
   ]
  },
  {
   "cell_type": "code",
   "execution_count": 34,
   "id": "b1d04204",
   "metadata": {},
   "outputs": [],
   "source": [
    "# b"
   ]
  },
  {
   "cell_type": "code",
   "execution_count": 35,
   "id": "e5c8880e",
   "metadata": {},
   "outputs": [
    {
     "name": "stdout",
     "output_type": "stream",
     "text": [
      "Genres\n",
      " Dramas, International Movies                          362\n",
      "Documentaries                                         359\n",
      "Stand-Up Comedy                                       334\n",
      "Comedies, Dramas, International Movies                274\n",
      "Dramas, Independent Movies, International Movies      252\n",
      "                                                     ... \n",
      "Kids' TV, TV Action & Adventure, TV Dramas              1\n",
      "TV Comedies, TV Dramas, TV Horror                       1\n",
      "Children & Family Movies, Comedies, LGBTQ Movies        1\n",
      "Kids' TV, Spanish-Language TV Shows, Teen TV Shows      1\n",
      "Cult Movies, Dramas, Thrillers                          1\n",
      "Name: Genres, Length: 514, dtype: int64\n"
     ]
    }
   ],
   "source": [
    "print('Genres\\n',asbl_data.Genres.value_counts())"
   ]
  },
  {
   "cell_type": "code",
   "execution_count": 36,
   "id": "81c75c7a",
   "metadata": {},
   "outputs": [],
   "source": [
    "#  Dramas, International Movies,Documentaries,Stand-Up Comedy,Comedies are the top 5 genres which are liked by people \n",
    "#  or here liking means listed on the portal of Netflix"
   ]
  },
  {
   "cell_type": "code",
   "execution_count": 37,
   "id": "6917eb88",
   "metadata": {},
   "outputs": [],
   "source": [
    "# c "
   ]
  },
  {
   "cell_type": "code",
   "execution_count": 38,
   "id": "62324478",
   "metadata": {},
   "outputs": [
    {
     "data": {
      "text/plain": [
       "Raúl Campos, Jan Suter    18\n",
       "Marcus Raboy              15\n",
       "Name: Director, dtype: int64"
      ]
     },
     "execution_count": 38,
     "metadata": {},
     "output_type": "execute_result"
    }
   ],
   "source": [
    "Director = asbl_updated_1.Director.value_counts()\n",
    "Director.head(2)"
   ]
  },
  {
   "cell_type": "code",
   "execution_count": 39,
   "id": "834fac63",
   "metadata": {},
   "outputs": [],
   "source": [
    "# \"Raúl Campos\", \"Jan Suter\"  2 directors should Netflix collaborate with more\n",
    "# based on the increase in their movies or tv shows over the recent past years"
   ]
  },
  {
   "cell_type": "code",
   "execution_count": 40,
   "id": "a499c59e",
   "metadata": {},
   "outputs": [],
   "source": [
    "# d"
   ]
  },
  {
   "cell_type": "code",
   "execution_count": 41,
   "id": "0b293754",
   "metadata": {},
   "outputs": [],
   "source": [
    "actor = asbl_data.Cast.value_counts()"
   ]
  },
  {
   "cell_type": "code",
   "execution_count": 42,
   "id": "feab57a7",
   "metadata": {},
   "outputs": [
    {
     "data": {
      "text/plain": [
       "David Attenborough                                                                                                        19\n",
       "Vatsal Dubey, Julie Tejwani, Rupa Bhimani, Jigna Bhardwaj, Rajesh Kava, Mousam, Swapnil                                   14\n",
       "Samuel West                                                                                                               10\n",
       "Jeff Dunham                                                                                                                7\n",
       "David Spade, London Hughes, Fortune Feimster                                                                               6\n",
       "Kevin Hart                                                                                                                 6\n",
       "Craig Sechler                                                                                                              6\n",
       "Michela Luci, Jamie Watson, Eric Peterson, Anna Claire Bartlam, Nicolas Aqui, Cory Doran, Julie Lemieux, Derek McGrath     6\n",
       "Bill Burr                                                                                                                  5\n",
       "Iliza Shlesinger                                                                                                           5\n",
       "Name: Cast, dtype: int64"
      ]
     },
     "execution_count": 42,
     "metadata": {},
     "output_type": "execute_result"
    }
   ],
   "source": [
    "actor.head(10)"
   ]
  },
  {
   "cell_type": "code",
   "execution_count": 43,
   "id": "cb6d80b3",
   "metadata": {},
   "outputs": [],
   "source": [
    "#David Attenborough,Vatsal Dubey, Julie Tejwani, Rupa Bhimani, Jigna Bhardwaj, Rajesh Kava, Mousam, Swapnil,Samuel West,\n",
    "#Jeff Dunham are top 10 Actors "
   ]
  },
  {
   "cell_type": "code",
   "execution_count": 44,
   "id": "a1629028",
   "metadata": {},
   "outputs": [],
   "source": [
    "# e"
   ]
  },
  {
   "cell_type": "code",
   "execution_count": 45,
   "id": "285f6197",
   "metadata": {},
   "outputs": [
    {
     "name": "stdout",
     "output_type": "stream",
     "text": [
      "Cast\n",
      " Samuel West                                                                                                                                                      10\n",
      "Jeff Dunham                                                                                                                                                       7\n",
      "Kevin Hart                                                                                                                                                        6\n",
      "Jim Gaffigan                                                                                                                                                      5\n",
      "Bill Burr                                                                                                                                                         5\n",
      "                                                                                                                                                                 ..\n",
      "Ryan Reynolds, Mélanie Laurent, Corey Hawkins, Dave Franco, Adria Arjona, Manuel Garcia-Rulfo, Ben Hardy, Lior Raz, Payman Maadi, Yuri Kolokolnikov, Kim Kold     1\n",
      "Hrithik Roshan, Abhay Deol, Farhan Akhtar, Katrina Kaif, Kalki Koechlin, Deepti Naval, Naseeruddin Shah, Ariadna Cabrol                                           1\n",
      "Aamir Khan, Rani Mukerji, Kareena Kapoor, Nawazuddin Siddiqui, Shernaz Patel, Sheeba Chaddha                                                                      1\n",
      "Farhan Akhtar, Arjun Rampal, Purab Kohli, Luke Kenny, Prachi Desai, Shahana Goswami, Koel Purie                                                                   1\n",
      "Vicky Kaushal, Sarah-Jane Dias, Raaghav Chanana, Manish Chaudhary, Meghna Malik, Malkeet Rauni, Anita Shabdish, Chittaranjan Tripathy                             1\n",
      "Name: Cast, Length: 4769, dtype: int64\n"
     ]
    }
   ],
   "source": [
    "print('Cast\\n',asbl_updated_1.Cast.value_counts())"
   ]
  },
  {
   "cell_type": "code",
   "execution_count": 46,
   "id": "c775a182",
   "metadata": {},
   "outputs": [
    {
     "data": {
      "text/html": [
       "<div>\n",
       "<style scoped>\n",
       "    .dataframe tbody tr th:only-of-type {\n",
       "        vertical-align: middle;\n",
       "    }\n",
       "\n",
       "    .dataframe tbody tr th {\n",
       "        vertical-align: top;\n",
       "    }\n",
       "\n",
       "    .dataframe thead th {\n",
       "        text-align: right;\n",
       "    }\n",
       "</style>\n",
       "<table border=\"1\" class=\"dataframe\">\n",
       "  <thead>\n",
       "    <tr style=\"text-align: right;\">\n",
       "      <th></th>\n",
       "      <th>Type</th>\n",
       "      <th>Title</th>\n",
       "      <th>Director</th>\n",
       "      <th>Cast</th>\n",
       "      <th>Country</th>\n",
       "      <th>Release_year</th>\n",
       "      <th>Genres</th>\n",
       "    </tr>\n",
       "  </thead>\n",
       "  <tbody>\n",
       "    <tr>\n",
       "      <th>7970</th>\n",
       "      <td>Movie</td>\n",
       "      <td>Secrets of Althorp - The Spencers</td>\n",
       "      <td>Kasia Uscinska</td>\n",
       "      <td>Samuel West</td>\n",
       "      <td>United States</td>\n",
       "      <td>2013</td>\n",
       "      <td>Documentaries, International Movies</td>\n",
       "    </tr>\n",
       "    <tr>\n",
       "      <th>7971</th>\n",
       "      <td>Movie</td>\n",
       "      <td>Secrets of Chatsworth</td>\n",
       "      <td>Susannah Ward</td>\n",
       "      <td>Samuel West</td>\n",
       "      <td>United States</td>\n",
       "      <td>2013</td>\n",
       "      <td>Documentaries, International Movies</td>\n",
       "    </tr>\n",
       "    <tr>\n",
       "      <th>7972</th>\n",
       "      <td>Movie</td>\n",
       "      <td>Secrets of Henry VIII's Palace: Hampton Court</td>\n",
       "      <td>Sam Taplin</td>\n",
       "      <td>Samuel West</td>\n",
       "      <td>United States</td>\n",
       "      <td>2013</td>\n",
       "      <td>Documentaries, International Movies</td>\n",
       "    </tr>\n",
       "    <tr>\n",
       "      <th>7973</th>\n",
       "      <td>Movie</td>\n",
       "      <td>Secrets of Her Majesty's Secret Service</td>\n",
       "      <td>Kasia Uscinska</td>\n",
       "      <td>Samuel West</td>\n",
       "      <td>United Kingdom</td>\n",
       "      <td>2014</td>\n",
       "      <td>Documentaries, International Movies</td>\n",
       "    </tr>\n",
       "    <tr>\n",
       "      <th>7974</th>\n",
       "      <td>Movie</td>\n",
       "      <td>Secrets of Highclere Castle</td>\n",
       "      <td>Vicky Matthews</td>\n",
       "      <td>Samuel West</td>\n",
       "      <td>United States</td>\n",
       "      <td>2013</td>\n",
       "      <td>Documentaries, International Movies</td>\n",
       "    </tr>\n",
       "    <tr>\n",
       "      <th>7975</th>\n",
       "      <td>Movie</td>\n",
       "      <td>Secrets of Scotland Yard</td>\n",
       "      <td>Susannah Ward</td>\n",
       "      <td>Samuel West</td>\n",
       "      <td>United Kingdom</td>\n",
       "      <td>2013</td>\n",
       "      <td>Documentaries</td>\n",
       "    </tr>\n",
       "    <tr>\n",
       "      <th>7976</th>\n",
       "      <td>Movie</td>\n",
       "      <td>Secrets of Selfridges</td>\n",
       "      <td>Sam Taplin</td>\n",
       "      <td>Samuel West</td>\n",
       "      <td>United States</td>\n",
       "      <td>2014</td>\n",
       "      <td>Documentaries</td>\n",
       "    </tr>\n",
       "    <tr>\n",
       "      <th>7977</th>\n",
       "      <td>Movie</td>\n",
       "      <td>Secrets of the Tower of London</td>\n",
       "      <td>Vicky Matthews</td>\n",
       "      <td>Samuel West</td>\n",
       "      <td>United Kingdom</td>\n",
       "      <td>2013</td>\n",
       "      <td>Documentaries</td>\n",
       "    </tr>\n",
       "    <tr>\n",
       "      <th>7978</th>\n",
       "      <td>Movie</td>\n",
       "      <td>Secrets of Underground London</td>\n",
       "      <td>Vicky Matthews, Gareth Sacala</td>\n",
       "      <td>Samuel West</td>\n",
       "      <td>United Kingdom</td>\n",
       "      <td>2014</td>\n",
       "      <td>Documentaries, International Movies</td>\n",
       "    </tr>\n",
       "    <tr>\n",
       "      <th>7979</th>\n",
       "      <td>Movie</td>\n",
       "      <td>Secrets of Westminster</td>\n",
       "      <td>Louise Wardle</td>\n",
       "      <td>Samuel West</td>\n",
       "      <td>United States, United Kingdom</td>\n",
       "      <td>2014</td>\n",
       "      <td>Documentaries, International Movies</td>\n",
       "    </tr>\n",
       "  </tbody>\n",
       "</table>\n",
       "</div>"
      ],
      "text/plain": [
       "       Type                                          Title  \\\n",
       "7970  Movie              Secrets of Althorp - The Spencers   \n",
       "7971  Movie                          Secrets of Chatsworth   \n",
       "7972  Movie  Secrets of Henry VIII's Palace: Hampton Court   \n",
       "7973  Movie        Secrets of Her Majesty's Secret Service   \n",
       "7974  Movie                    Secrets of Highclere Castle   \n",
       "7975  Movie                       Secrets of Scotland Yard   \n",
       "7976  Movie                          Secrets of Selfridges   \n",
       "7977  Movie                 Secrets of the Tower of London   \n",
       "7978  Movie                  Secrets of Underground London   \n",
       "7979  Movie                         Secrets of Westminster   \n",
       "\n",
       "                           Director         Cast  \\\n",
       "7970                 Kasia Uscinska  Samuel West   \n",
       "7971                  Susannah Ward  Samuel West   \n",
       "7972                     Sam Taplin  Samuel West   \n",
       "7973                 Kasia Uscinska  Samuel West   \n",
       "7974                 Vicky Matthews  Samuel West   \n",
       "7975                  Susannah Ward  Samuel West   \n",
       "7976                     Sam Taplin  Samuel West   \n",
       "7977                 Vicky Matthews  Samuel West   \n",
       "7978  Vicky Matthews, Gareth Sacala  Samuel West   \n",
       "7979                  Louise Wardle  Samuel West   \n",
       "\n",
       "                            Country  Release_year  \\\n",
       "7970                  United States          2013   \n",
       "7971                  United States          2013   \n",
       "7972                  United States          2013   \n",
       "7973                 United Kingdom          2014   \n",
       "7974                  United States          2013   \n",
       "7975                 United Kingdom          2013   \n",
       "7976                  United States          2014   \n",
       "7977                 United Kingdom          2013   \n",
       "7978                 United Kingdom          2014   \n",
       "7979  United States, United Kingdom          2014   \n",
       "\n",
       "                                   Genres  \n",
       "7970  Documentaries, International Movies  \n",
       "7971  Documentaries, International Movies  \n",
       "7972  Documentaries, International Movies  \n",
       "7973  Documentaries, International Movies  \n",
       "7974  Documentaries, International Movies  \n",
       "7975                        Documentaries  \n",
       "7976                        Documentaries  \n",
       "7977                        Documentaries  \n",
       "7978  Documentaries, International Movies  \n",
       "7979  Documentaries, International Movies  "
      ]
     },
     "execution_count": 46,
     "metadata": {},
     "output_type": "execute_result"
    }
   ],
   "source": [
    "asbl_updated_1[asbl_updated_1['Cast'] == 'Samuel West'] "
   ]
  },
  {
   "cell_type": "code",
   "execution_count": 47,
   "id": "fbf72873",
   "metadata": {},
   "outputs": [
    {
     "data": {
      "text/html": [
       "<div>\n",
       "<style scoped>\n",
       "    .dataframe tbody tr th:only-of-type {\n",
       "        vertical-align: middle;\n",
       "    }\n",
       "\n",
       "    .dataframe tbody tr th {\n",
       "        vertical-align: top;\n",
       "    }\n",
       "\n",
       "    .dataframe thead th {\n",
       "        text-align: right;\n",
       "    }\n",
       "</style>\n",
       "<table border=\"1\" class=\"dataframe\">\n",
       "  <thead>\n",
       "    <tr style=\"text-align: right;\">\n",
       "      <th></th>\n",
       "      <th>Type</th>\n",
       "      <th>Title</th>\n",
       "      <th>Director</th>\n",
       "      <th>Cast</th>\n",
       "      <th>Country</th>\n",
       "      <th>Release_year</th>\n",
       "      <th>Genres</th>\n",
       "    </tr>\n",
       "  </thead>\n",
       "  <tbody>\n",
       "    <tr>\n",
       "      <th>3061</th>\n",
       "      <td>Movie</td>\n",
       "      <td>Jeff Dunham: Unhinged in Hollywood</td>\n",
       "      <td>Michael Simon</td>\n",
       "      <td>Jeff Dunham</td>\n",
       "      <td>United States</td>\n",
       "      <td>2015</td>\n",
       "      <td>Stand-Up Comedy</td>\n",
       "    </tr>\n",
       "    <tr>\n",
       "      <th>3260</th>\n",
       "      <td>Movie</td>\n",
       "      <td>Jeff Dunham: All Over the Map</td>\n",
       "      <td>Robb Dipple</td>\n",
       "      <td>Jeff Dunham</td>\n",
       "      <td>United States</td>\n",
       "      <td>2014</td>\n",
       "      <td>Stand-Up Comedy</td>\n",
       "    </tr>\n",
       "    <tr>\n",
       "      <th>3495</th>\n",
       "      <td>Movie</td>\n",
       "      <td>Jeff Dunham: Beside Himself</td>\n",
       "      <td>Troy Miller</td>\n",
       "      <td>Jeff Dunham</td>\n",
       "      <td>United States</td>\n",
       "      <td>2019</td>\n",
       "      <td>Stand-Up Comedy</td>\n",
       "    </tr>\n",
       "    <tr>\n",
       "      <th>4007</th>\n",
       "      <td>Movie</td>\n",
       "      <td>Jeff Dunham: Arguing with Myself</td>\n",
       "      <td>Manny Rodriguez</td>\n",
       "      <td>Jeff Dunham</td>\n",
       "      <td>United States</td>\n",
       "      <td>2006</td>\n",
       "      <td>Stand-Up Comedy</td>\n",
       "    </tr>\n",
       "    <tr>\n",
       "      <th>4008</th>\n",
       "      <td>Movie</td>\n",
       "      <td>Jeff Dunham: Controlled Chaos</td>\n",
       "      <td>Michael Simon, Matthew McNeil</td>\n",
       "      <td>Jeff Dunham</td>\n",
       "      <td>United States</td>\n",
       "      <td>2011</td>\n",
       "      <td>Stand-Up Comedy</td>\n",
       "    </tr>\n",
       "    <tr>\n",
       "      <th>4009</th>\n",
       "      <td>Movie</td>\n",
       "      <td>Jeff Dunham: Minding the Monsters</td>\n",
       "      <td>Manny Rodriguez</td>\n",
       "      <td>Jeff Dunham</td>\n",
       "      <td>United States</td>\n",
       "      <td>2012</td>\n",
       "      <td>Stand-Up Comedy</td>\n",
       "    </tr>\n",
       "    <tr>\n",
       "      <th>5276</th>\n",
       "      <td>Movie</td>\n",
       "      <td>Jeff Dunham: Relative Disaster</td>\n",
       "      <td>Michael Simon</td>\n",
       "      <td>Jeff Dunham</td>\n",
       "      <td>United States</td>\n",
       "      <td>2017</td>\n",
       "      <td>Stand-Up Comedy</td>\n",
       "    </tr>\n",
       "  </tbody>\n",
       "</table>\n",
       "</div>"
      ],
      "text/plain": [
       "       Type                               Title  \\\n",
       "3061  Movie  Jeff Dunham: Unhinged in Hollywood   \n",
       "3260  Movie       Jeff Dunham: All Over the Map   \n",
       "3495  Movie         Jeff Dunham: Beside Himself   \n",
       "4007  Movie    Jeff Dunham: Arguing with Myself   \n",
       "4008  Movie       Jeff Dunham: Controlled Chaos   \n",
       "4009  Movie   Jeff Dunham: Minding the Monsters   \n",
       "5276  Movie      Jeff Dunham: Relative Disaster   \n",
       "\n",
       "                           Director         Cast        Country  Release_year  \\\n",
       "3061                  Michael Simon  Jeff Dunham  United States          2015   \n",
       "3260                    Robb Dipple  Jeff Dunham  United States          2014   \n",
       "3495                    Troy Miller  Jeff Dunham  United States          2019   \n",
       "4007                Manny Rodriguez  Jeff Dunham  United States          2006   \n",
       "4008  Michael Simon, Matthew McNeil  Jeff Dunham  United States          2011   \n",
       "4009                Manny Rodriguez  Jeff Dunham  United States          2012   \n",
       "5276                  Michael Simon  Jeff Dunham  United States          2017   \n",
       "\n",
       "               Genres  \n",
       "3061  Stand-Up Comedy  \n",
       "3260  Stand-Up Comedy  \n",
       "3495  Stand-Up Comedy  \n",
       "4007  Stand-Up Comedy  \n",
       "4008  Stand-Up Comedy  \n",
       "4009  Stand-Up Comedy  \n",
       "5276  Stand-Up Comedy  "
      ]
     },
     "execution_count": 47,
     "metadata": {},
     "output_type": "execute_result"
    }
   ],
   "source": [
    "asbl_updated_1[asbl_updated_1['Cast'] == 'Jeff Dunham'] "
   ]
  },
  {
   "cell_type": "code",
   "execution_count": 48,
   "id": "b61ee467",
   "metadata": {},
   "outputs": [],
   "source": [
    "# \"Samuel West\",\"Jeff Dunham\" two actors should Netflix collaborate with more \n",
    "# based on the increase in their movies or tv shows over the recent past years"
   ]
  },
  {
   "cell_type": "code",
   "execution_count": null,
   "id": "58201b36",
   "metadata": {},
   "outputs": [],
   "source": []
  },
  {
   "cell_type": "code",
   "execution_count": null,
   "id": "f555274d",
   "metadata": {},
   "outputs": [],
   "source": []
  }
 ],
 "metadata": {
  "kernelspec": {
   "display_name": "Python 3 (ipykernel)",
   "language": "python",
   "name": "python3"
  },
  "language_info": {
   "codemirror_mode": {
    "name": "ipython",
    "version": 3
   },
   "file_extension": ".py",
   "mimetype": "text/x-python",
   "name": "python",
   "nbconvert_exporter": "python",
   "pygments_lexer": "ipython3",
   "version": "3.9.12"
  }
 },
 "nbformat": 4,
 "nbformat_minor": 5
}
